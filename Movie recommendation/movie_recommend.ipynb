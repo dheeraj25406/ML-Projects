{
  "nbformat": 4,
  "nbformat_minor": 0,
  "metadata": {
    "colab": {
      "provenance": [],
      "include_colab_link": true
    },
    "kernelspec": {
      "name": "python3",
      "display_name": "Python 3"
    },
    "language_info": {
      "name": "python"
    }
  },
  "cells": [
    {
      "cell_type": "markdown",
      "metadata": {
        "id": "view-in-github",
        "colab_type": "text"
      },
      "source": [
        "<a href=\"https://colab.research.google.com/github/dheeraj25406/ML-Projects/blob/main/movie_recommend.ipynb\" target=\"_parent\"><img src=\"https://colab.research.google.com/assets/colab-badge.svg\" alt=\"Open In Colab\"/></a>"
      ]
    },
    {
      "cell_type": "markdown",
      "source": [
        "Importing the dependencies"
      ],
      "metadata": {
        "id": "mlYgnRyzd4fn"
      }
    },
    {
      "cell_type": "code",
      "execution_count": null,
      "metadata": {
        "id": "OJeBoUR7dcZy"
      },
      "outputs": [],
      "source": [
        "import numpy as np\n",
        "import pandas as pd\n",
        "import difflib\n",
        "from sklearn.feature_extraction.text import TfidfVectorizer\n",
        "from sklearn.metrics.pairwise import cosine_similarity\n"
      ]
    },
    {
      "cell_type": "markdown",
      "source": [
        "Data Collection and Preprocessing"
      ],
      "metadata": {
        "id": "gwsdR-UdfqiL"
      }
    },
    {
      "cell_type": "code",
      "source": [
        "#loading dataset from csv file to pandas dataframe\n",
        "movies_data=pd.read_csv('/content/TeluguMovies_dataset.csv')"
      ],
      "metadata": {
        "id": "J8VMBkmIfpps"
      },
      "execution_count": null,
      "outputs": []
    },
    {
      "cell_type": "code",
      "source": [
        "movies_data.head()"
      ],
      "metadata": {
        "colab": {
          "base_uri": "https://localhost:8080/",
          "height": 293
        },
        "id": "1VHH7qk2gJH6",
        "outputId": "48b0cdab-6bda-4c6c-e433-a6370defac4b"
      },
      "execution_count": null,
      "outputs": [
        {
          "output_type": "execute_result",
          "data": {
            "text/plain": [
              "   Index                        Movie    Year Certificate  \\\n",
              "0      0      Bahubali: The Beginning  2015.0          UA   \n",
              "1      1  Baahubali 2: The Conclusion  2017.0          UA   \n",
              "2      2              1 - Nenokkadine  2014.0          UA   \n",
              "3      3                      Dhoom:3  2013.0          UA   \n",
              "4      4                       Ra.One  2011.0           U   \n",
              "\n",
              "                                   Genre  \\\n",
              "0              Action, Drama               \n",
              "1              Action, Drama               \n",
              "2           Action, Thriller               \n",
              "3           Action, Thriller               \n",
              "4  Action, Adventure, Sci-Fi               \n",
              "\n",
              "                                            Overview  Runtime  Rating  \\\n",
              "0      In ancient India, an adventurous and darin...      159     8.1   \n",
              "1      When Shiva, the son of Bahubali, learns ab...      167     8.2   \n",
              "2      A rock star must overcome his psychologica...      170     8.1   \n",
              "3      When Sahir, a circus entertainer trained i...      172     5.4   \n",
              "4      When the titular antagonist of an action g...      156     4.6   \n",
              "\n",
              "   No.of.Ratings  \n",
              "0          99114  \n",
              "1          71458  \n",
              "2          42372  \n",
              "3          42112  \n",
              "4          37211  "
            ],
            "text/html": [
              "\n",
              "  <div id=\"df-a9b44730-94fb-4da2-a0a0-33c6889ec90d\" class=\"colab-df-container\">\n",
              "    <div>\n",
              "<style scoped>\n",
              "    .dataframe tbody tr th:only-of-type {\n",
              "        vertical-align: middle;\n",
              "    }\n",
              "\n",
              "    .dataframe tbody tr th {\n",
              "        vertical-align: top;\n",
              "    }\n",
              "\n",
              "    .dataframe thead th {\n",
              "        text-align: right;\n",
              "    }\n",
              "</style>\n",
              "<table border=\"1\" class=\"dataframe\">\n",
              "  <thead>\n",
              "    <tr style=\"text-align: right;\">\n",
              "      <th></th>\n",
              "      <th>Index</th>\n",
              "      <th>Movie</th>\n",
              "      <th>Year</th>\n",
              "      <th>Certificate</th>\n",
              "      <th>Genre</th>\n",
              "      <th>Overview</th>\n",
              "      <th>Runtime</th>\n",
              "      <th>Rating</th>\n",
              "      <th>No.of.Ratings</th>\n",
              "    </tr>\n",
              "  </thead>\n",
              "  <tbody>\n",
              "    <tr>\n",
              "      <th>0</th>\n",
              "      <td>0</td>\n",
              "      <td>Bahubali: The Beginning</td>\n",
              "      <td>2015.0</td>\n",
              "      <td>UA</td>\n",
              "      <td>Action, Drama</td>\n",
              "      <td>In ancient India, an adventurous and darin...</td>\n",
              "      <td>159</td>\n",
              "      <td>8.1</td>\n",
              "      <td>99114</td>\n",
              "    </tr>\n",
              "    <tr>\n",
              "      <th>1</th>\n",
              "      <td>1</td>\n",
              "      <td>Baahubali 2: The Conclusion</td>\n",
              "      <td>2017.0</td>\n",
              "      <td>UA</td>\n",
              "      <td>Action, Drama</td>\n",
              "      <td>When Shiva, the son of Bahubali, learns ab...</td>\n",
              "      <td>167</td>\n",
              "      <td>8.2</td>\n",
              "      <td>71458</td>\n",
              "    </tr>\n",
              "    <tr>\n",
              "      <th>2</th>\n",
              "      <td>2</td>\n",
              "      <td>1 - Nenokkadine</td>\n",
              "      <td>2014.0</td>\n",
              "      <td>UA</td>\n",
              "      <td>Action, Thriller</td>\n",
              "      <td>A rock star must overcome his psychologica...</td>\n",
              "      <td>170</td>\n",
              "      <td>8.1</td>\n",
              "      <td>42372</td>\n",
              "    </tr>\n",
              "    <tr>\n",
              "      <th>3</th>\n",
              "      <td>3</td>\n",
              "      <td>Dhoom:3</td>\n",
              "      <td>2013.0</td>\n",
              "      <td>UA</td>\n",
              "      <td>Action, Thriller</td>\n",
              "      <td>When Sahir, a circus entertainer trained i...</td>\n",
              "      <td>172</td>\n",
              "      <td>5.4</td>\n",
              "      <td>42112</td>\n",
              "    </tr>\n",
              "    <tr>\n",
              "      <th>4</th>\n",
              "      <td>4</td>\n",
              "      <td>Ra.One</td>\n",
              "      <td>2011.0</td>\n",
              "      <td>U</td>\n",
              "      <td>Action, Adventure, Sci-Fi</td>\n",
              "      <td>When the titular antagonist of an action g...</td>\n",
              "      <td>156</td>\n",
              "      <td>4.6</td>\n",
              "      <td>37211</td>\n",
              "    </tr>\n",
              "  </tbody>\n",
              "</table>\n",
              "</div>\n",
              "    <div class=\"colab-df-buttons\">\n",
              "\n",
              "  <div class=\"colab-df-container\">\n",
              "    <button class=\"colab-df-convert\" onclick=\"convertToInteractive('df-a9b44730-94fb-4da2-a0a0-33c6889ec90d')\"\n",
              "            title=\"Convert this dataframe to an interactive table.\"\n",
              "            style=\"display:none;\">\n",
              "\n",
              "  <svg xmlns=\"http://www.w3.org/2000/svg\" height=\"24px\" viewBox=\"0 -960 960 960\">\n",
              "    <path d=\"M120-120v-720h720v720H120Zm60-500h600v-160H180v160Zm220 220h160v-160H400v160Zm0 220h160v-160H400v160ZM180-400h160v-160H180v160Zm440 0h160v-160H620v160ZM180-180h160v-160H180v160Zm440 0h160v-160H620v160Z\"/>\n",
              "  </svg>\n",
              "    </button>\n",
              "\n",
              "  <style>\n",
              "    .colab-df-container {\n",
              "      display:flex;\n",
              "      gap: 12px;\n",
              "    }\n",
              "\n",
              "    .colab-df-convert {\n",
              "      background-color: #E8F0FE;\n",
              "      border: none;\n",
              "      border-radius: 50%;\n",
              "      cursor: pointer;\n",
              "      display: none;\n",
              "      fill: #1967D2;\n",
              "      height: 32px;\n",
              "      padding: 0 0 0 0;\n",
              "      width: 32px;\n",
              "    }\n",
              "\n",
              "    .colab-df-convert:hover {\n",
              "      background-color: #E2EBFA;\n",
              "      box-shadow: 0px 1px 2px rgba(60, 64, 67, 0.3), 0px 1px 3px 1px rgba(60, 64, 67, 0.15);\n",
              "      fill: #174EA6;\n",
              "    }\n",
              "\n",
              "    .colab-df-buttons div {\n",
              "      margin-bottom: 4px;\n",
              "    }\n",
              "\n",
              "    [theme=dark] .colab-df-convert {\n",
              "      background-color: #3B4455;\n",
              "      fill: #D2E3FC;\n",
              "    }\n",
              "\n",
              "    [theme=dark] .colab-df-convert:hover {\n",
              "      background-color: #434B5C;\n",
              "      box-shadow: 0px 1px 3px 1px rgba(0, 0, 0, 0.15);\n",
              "      filter: drop-shadow(0px 1px 2px rgba(0, 0, 0, 0.3));\n",
              "      fill: #FFFFFF;\n",
              "    }\n",
              "  </style>\n",
              "\n",
              "    <script>\n",
              "      const buttonEl =\n",
              "        document.querySelector('#df-a9b44730-94fb-4da2-a0a0-33c6889ec90d button.colab-df-convert');\n",
              "      buttonEl.style.display =\n",
              "        google.colab.kernel.accessAllowed ? 'block' : 'none';\n",
              "\n",
              "      async function convertToInteractive(key) {\n",
              "        const element = document.querySelector('#df-a9b44730-94fb-4da2-a0a0-33c6889ec90d');\n",
              "        const dataTable =\n",
              "          await google.colab.kernel.invokeFunction('convertToInteractive',\n",
              "                                                    [key], {});\n",
              "        if (!dataTable) return;\n",
              "\n",
              "        const docLinkHtml = 'Like what you see? Visit the ' +\n",
              "          '<a target=\"_blank\" href=https://colab.research.google.com/notebooks/data_table.ipynb>data table notebook</a>'\n",
              "          + ' to learn more about interactive tables.';\n",
              "        element.innerHTML = '';\n",
              "        dataTable['output_type'] = 'display_data';\n",
              "        await google.colab.output.renderOutput(dataTable, element);\n",
              "        const docLink = document.createElement('div');\n",
              "        docLink.innerHTML = docLinkHtml;\n",
              "        element.appendChild(docLink);\n",
              "      }\n",
              "    </script>\n",
              "  </div>\n",
              "\n",
              "\n",
              "<div id=\"df-ca1bb1c5-fd34-4ca5-9f9b-eb15c2d9ba93\">\n",
              "  <button class=\"colab-df-quickchart\" onclick=\"quickchart('df-ca1bb1c5-fd34-4ca5-9f9b-eb15c2d9ba93')\"\n",
              "            title=\"Suggest charts\"\n",
              "            style=\"display:none;\">\n",
              "\n",
              "<svg xmlns=\"http://www.w3.org/2000/svg\" height=\"24px\"viewBox=\"0 0 24 24\"\n",
              "     width=\"24px\">\n",
              "    <g>\n",
              "        <path d=\"M19 3H5c-1.1 0-2 .9-2 2v14c0 1.1.9 2 2 2h14c1.1 0 2-.9 2-2V5c0-1.1-.9-2-2-2zM9 17H7v-7h2v7zm4 0h-2V7h2v10zm4 0h-2v-4h2v4z\"/>\n",
              "    </g>\n",
              "</svg>\n",
              "  </button>\n",
              "\n",
              "<style>\n",
              "  .colab-df-quickchart {\n",
              "      --bg-color: #E8F0FE;\n",
              "      --fill-color: #1967D2;\n",
              "      --hover-bg-color: #E2EBFA;\n",
              "      --hover-fill-color: #174EA6;\n",
              "      --disabled-fill-color: #AAA;\n",
              "      --disabled-bg-color: #DDD;\n",
              "  }\n",
              "\n",
              "  [theme=dark] .colab-df-quickchart {\n",
              "      --bg-color: #3B4455;\n",
              "      --fill-color: #D2E3FC;\n",
              "      --hover-bg-color: #434B5C;\n",
              "      --hover-fill-color: #FFFFFF;\n",
              "      --disabled-bg-color: #3B4455;\n",
              "      --disabled-fill-color: #666;\n",
              "  }\n",
              "\n",
              "  .colab-df-quickchart {\n",
              "    background-color: var(--bg-color);\n",
              "    border: none;\n",
              "    border-radius: 50%;\n",
              "    cursor: pointer;\n",
              "    display: none;\n",
              "    fill: var(--fill-color);\n",
              "    height: 32px;\n",
              "    padding: 0;\n",
              "    width: 32px;\n",
              "  }\n",
              "\n",
              "  .colab-df-quickchart:hover {\n",
              "    background-color: var(--hover-bg-color);\n",
              "    box-shadow: 0 1px 2px rgba(60, 64, 67, 0.3), 0 1px 3px 1px rgba(60, 64, 67, 0.15);\n",
              "    fill: var(--button-hover-fill-color);\n",
              "  }\n",
              "\n",
              "  .colab-df-quickchart-complete:disabled,\n",
              "  .colab-df-quickchart-complete:disabled:hover {\n",
              "    background-color: var(--disabled-bg-color);\n",
              "    fill: var(--disabled-fill-color);\n",
              "    box-shadow: none;\n",
              "  }\n",
              "\n",
              "  .colab-df-spinner {\n",
              "    border: 2px solid var(--fill-color);\n",
              "    border-color: transparent;\n",
              "    border-bottom-color: var(--fill-color);\n",
              "    animation:\n",
              "      spin 1s steps(1) infinite;\n",
              "  }\n",
              "\n",
              "  @keyframes spin {\n",
              "    0% {\n",
              "      border-color: transparent;\n",
              "      border-bottom-color: var(--fill-color);\n",
              "      border-left-color: var(--fill-color);\n",
              "    }\n",
              "    20% {\n",
              "      border-color: transparent;\n",
              "      border-left-color: var(--fill-color);\n",
              "      border-top-color: var(--fill-color);\n",
              "    }\n",
              "    30% {\n",
              "      border-color: transparent;\n",
              "      border-left-color: var(--fill-color);\n",
              "      border-top-color: var(--fill-color);\n",
              "      border-right-color: var(--fill-color);\n",
              "    }\n",
              "    40% {\n",
              "      border-color: transparent;\n",
              "      border-right-color: var(--fill-color);\n",
              "      border-top-color: var(--fill-color);\n",
              "    }\n",
              "    60% {\n",
              "      border-color: transparent;\n",
              "      border-right-color: var(--fill-color);\n",
              "    }\n",
              "    80% {\n",
              "      border-color: transparent;\n",
              "      border-right-color: var(--fill-color);\n",
              "      border-bottom-color: var(--fill-color);\n",
              "    }\n",
              "    90% {\n",
              "      border-color: transparent;\n",
              "      border-bottom-color: var(--fill-color);\n",
              "    }\n",
              "  }\n",
              "</style>\n",
              "\n",
              "  <script>\n",
              "    async function quickchart(key) {\n",
              "      const quickchartButtonEl =\n",
              "        document.querySelector('#' + key + ' button');\n",
              "      quickchartButtonEl.disabled = true;  // To prevent multiple clicks.\n",
              "      quickchartButtonEl.classList.add('colab-df-spinner');\n",
              "      try {\n",
              "        const charts = await google.colab.kernel.invokeFunction(\n",
              "            'suggestCharts', [key], {});\n",
              "      } catch (error) {\n",
              "        console.error('Error during call to suggestCharts:', error);\n",
              "      }\n",
              "      quickchartButtonEl.classList.remove('colab-df-spinner');\n",
              "      quickchartButtonEl.classList.add('colab-df-quickchart-complete');\n",
              "    }\n",
              "    (() => {\n",
              "      let quickchartButtonEl =\n",
              "        document.querySelector('#df-ca1bb1c5-fd34-4ca5-9f9b-eb15c2d9ba93 button');\n",
              "      quickchartButtonEl.style.display =\n",
              "        google.colab.kernel.accessAllowed ? 'block' : 'none';\n",
              "    })();\n",
              "  </script>\n",
              "</div>\n",
              "\n",
              "    </div>\n",
              "  </div>\n"
            ],
            "application/vnd.google.colaboratory.intrinsic+json": {
              "type": "dataframe",
              "variable_name": "movies_data",
              "summary": "{\n  \"name\": \"movies_data\",\n  \"rows\": 1400,\n  \"fields\": [\n    {\n      \"column\": \"Index\",\n      \"properties\": {\n        \"dtype\": \"number\",\n        \"std\": 404,\n        \"min\": 0,\n        \"max\": 1399,\n        \"num_unique_values\": 1400,\n        \"samples\": [\n          665,\n          624,\n          115\n        ],\n        \"semantic_type\": \"\",\n        \"description\": \"\"\n      }\n    },\n    {\n      \"column\": \"Movie\",\n      \"properties\": {\n        \"dtype\": \"string\",\n        \"num_unique_values\": 1376,\n        \"samples\": [\n          \"Phoonk 2\",\n          \"Chekka Chivantha Vaanam\",\n          \"Sri Anjaneyam\"\n        ],\n        \"semantic_type\": \"\",\n        \"description\": \"\"\n      }\n    },\n    {\n      \"column\": \"Year\",\n      \"properties\": {\n        \"dtype\": \"number\",\n        \"std\": 13.148859065004318,\n        \"min\": 1932.0,\n        \"max\": 2020.0,\n        \"num_unique_values\": 65,\n        \"samples\": [\n          1965.0,\n          1961.0,\n          2015.0\n        ],\n        \"semantic_type\": \"\",\n        \"description\": \"\"\n      }\n    },\n    {\n      \"column\": \"Certificate\",\n      \"properties\": {\n        \"dtype\": \"category\",\n        \"num_unique_values\": 7,\n        \"samples\": [\n          \"UA\",\n          \"U\",\n          \"Unrated\"\n        ],\n        \"semantic_type\": \"\",\n        \"description\": \"\"\n      }\n    },\n    {\n      \"column\": \"Genre\",\n      \"properties\": {\n        \"dtype\": \"category\",\n        \"num_unique_values\": 170,\n        \"samples\": [\n          \"Musical, Mystery, Thriller            \",\n          \"Action, Comedy, Crime            \",\n          \"Comedy, Romance, Thriller            \"\n        ],\n        \"semantic_type\": \"\",\n        \"description\": \"\"\n      }\n    },\n    {\n      \"column\": \"Overview\",\n      \"properties\": {\n        \"dtype\": \"string\",\n        \"num_unique_values\": 1221,\n        \"samples\": [\n          \"    A famous actor is asked to play the role of his lookalike army major and eventually battle his enemies.\",\n          \"    When Naidu confronts his son's rival group to end their squabbles, he encounters their mother Satya, his long lost love, separated by the twist of fate. As Honey learns the secret between ...                See full summary\\u00a0\\u00bb\",\n          \"    A son steps into his father's shoes, has to win a bloody war before he becomes the leader.\"\n        ],\n        \"semantic_type\": \"\",\n        \"description\": \"\"\n      }\n    },\n    {\n      \"column\": \"Runtime\",\n      \"properties\": {\n        \"dtype\": \"number\",\n        \"std\": 55,\n        \"min\": 0,\n        \"max\": 300,\n        \"num_unique_values\": 112,\n        \"samples\": [\n          146,\n          0,\n          156\n        ],\n        \"semantic_type\": \"\",\n        \"description\": \"\"\n      }\n    },\n    {\n      \"column\": \"Rating\",\n      \"properties\": {\n        \"dtype\": \"number\",\n        \"std\": 1.314660050236229,\n        \"min\": 1.0,\n        \"max\": 9.5,\n        \"num_unique_values\": 76,\n        \"samples\": [\n          6.5,\n          9.0,\n          7.4\n        ],\n        \"semantic_type\": \"\",\n        \"description\": \"\"\n      }\n    },\n    {\n      \"column\": \"No.of.Ratings\",\n      \"properties\": {\n        \"dtype\": \"number\",\n        \"std\": 4328,\n        \"min\": 49,\n        \"max\": 99114,\n        \"num_unique_values\": 766,\n        \"samples\": [\n          530,\n          161,\n          790\n        ],\n        \"semantic_type\": \"\",\n        \"description\": \"\"\n      }\n    }\n  ]\n}"
            }
          },
          "metadata": {},
          "execution_count": 3
        }
      ]
    },
    {
      "cell_type": "code",
      "source": [
        "#number of rows and columns in dataset\n",
        "movies_data.shape"
      ],
      "metadata": {
        "colab": {
          "base_uri": "https://localhost:8080/"
        },
        "id": "kYVWsMWR8U8P",
        "outputId": "c85fb44a-ccfb-4d34-d133-4679c1779dc7"
      },
      "execution_count": null,
      "outputs": [
        {
          "output_type": "execute_result",
          "data": {
            "text/plain": [
              "(1400, 9)"
            ]
          },
          "metadata": {},
          "execution_count": 4
        }
      ]
    },
    {
      "cell_type": "code",
      "source": [
        "#selecting features for calculating cosine similarities\n",
        "selected_features=['Genre','Overview']"
      ],
      "metadata": {
        "id": "kQqWvubc876U"
      },
      "execution_count": null,
      "outputs": []
    },
    {
      "cell_type": "code",
      "source": [
        "print(selected_features)"
      ],
      "metadata": {
        "colab": {
          "base_uri": "https://localhost:8080/"
        },
        "id": "kgn1p4QVjzNV",
        "outputId": "acad6837-be3e-4ed1-99fd-d9b5817d8876"
      },
      "execution_count": null,
      "outputs": [
        {
          "output_type": "stream",
          "name": "stdout",
          "text": [
            "['Genre', 'Overview']\n"
          ]
        }
      ]
    },
    {
      "cell_type": "code",
      "source": [
        "#replacing empty values with null\n",
        "for feature in selected_features:\n",
        "  movies_data[feature]=movies_data[feature].fillna('')"
      ],
      "metadata": {
        "id": "vaazYKw4j4VL"
      },
      "execution_count": null,
      "outputs": []
    },
    {
      "cell_type": "code",
      "source": [
        "#combining the selected values\n",
        "combined_features=movies_data['Genre']+' '+movies_data['Overview']"
      ],
      "metadata": {
        "id": "98qBQEf8j-J3"
      },
      "execution_count": null,
      "outputs": []
    },
    {
      "cell_type": "code",
      "source": [
        "print(combined_features)"
      ],
      "metadata": {
        "colab": {
          "base_uri": "https://localhost:8080/"
        },
        "id": "vg_ZarkOkFsr",
        "outputId": "b3e4619a-12fa-441d-c286-22ab110c1ee1"
      },
      "execution_count": null,
      "outputs": [
        {
          "output_type": "stream",
          "name": "stdout",
          "text": [
            "0       Action, Drama                 In ancient India...\n",
            "1       Action, Drama                 When Shiva, the ...\n",
            "2       Action, Thriller                 A rock star m...\n",
            "3       Action, Thriller                 When Sahir, a...\n",
            "4       Action, Adventure, Sci-Fi                 When...\n",
            "                              ...                        \n",
            "1395                                                     \n",
            "1396    Comedy, Drama                 The movie is abo...\n",
            "1397    Drama, Romance                 Muvva Gopaludu ...\n",
            "1398         Hero Charan (Tarun) a middle class family...\n",
            "1399    Drama                 Surendra marries Savitri...\n",
            "Length: 1400, dtype: object\n"
          ]
        }
      ]
    },
    {
      "cell_type": "code",
      "source": [
        "#loading the vectorizer as vectorizer\n",
        "vectorizer=TfidfVectorizer()"
      ],
      "metadata": {
        "id": "pDZZ3fcBkJ2D"
      },
      "execution_count": null,
      "outputs": []
    },
    {
      "cell_type": "code",
      "source": [
        "#converting textual data into numbers and storing in feature_vectors\n",
        "feature_vectors=vectorizer.fit_transform(combined_features)"
      ],
      "metadata": {
        "id": "XtRSRatVkYu-"
      },
      "execution_count": null,
      "outputs": []
    },
    {
      "cell_type": "code",
      "source": [
        "print(feature_vectors)"
      ],
      "metadata": {
        "colab": {
          "base_uri": "https://localhost:8080/"
        },
        "id": "L8bzwbEPkfxg",
        "outputId": "8e27b46a-d7cc-47f6-a339-dacd89dafe17"
      },
      "execution_count": null,
      "outputs": [
        {
          "output_type": "stream",
          "name": "stdout",
          "text": [
            "<Compressed Sparse Row sparse matrix of dtype 'float64'\n",
            "\twith 30372 stored elements and shape (1400, 5437)>\n",
            "  Coords\tValues\n",
            "  (0, 117)\t0.08236987903421875\n",
            "  (0, 1422)\t0.07691035351646491\n",
            "  (0, 2273)\t0.17581621681899193\n",
            "  (0, 276)\t0.30485129679550443\n",
            "  (0, 2286)\t0.20289565072959406\n",
            "  (0, 266)\t0.11830459504933362\n",
            "  (0, 163)\t0.3151030583410978\n",
            "  (0, 277)\t0.08010763987538654\n",
            "  (0, 1174)\t0.346947938326426\n",
            "  (0, 2847)\t0.14365964127076553\n",
            "  (0, 531)\t0.21956841838511332\n",
            "  (0, 2374)\t0.2575480577572813\n",
            "  (0, 1205)\t0.30485129679550443\n",
            "  (0, 3282)\t0.2367827536134717\n",
            "  (0, 1723)\t0.28939293774260944\n",
            "  (0, 571)\t0.19552911647629348\n",
            "  (0, 5022)\t0.1757804527187766\n",
            "  (0, 5296)\t0.3151030583410978\n",
            "  (0, 3437)\t0.21415717710767618\n",
            "  (1, 117)\t0.06800083761557615\n",
            "  (1, 1422)\t0.06349370087404173\n",
            "  (1, 2273)\t0.0725729486935782\n",
            "  (1, 5331)\t0.11951839834195103\n",
            "  (1, 4335)\t0.22176679516331324\n",
            "  (1, 4835)\t0.12235117240934917\n",
            "  :\t:\n",
            "  (1399, 277)\t0.053062479266743776\n",
            "  (1399, 3270)\t0.056137072556286624\n",
            "  (1399, 4902)\t0.15219679313111653\n",
            "  (1399, 5366)\t0.07565468526920076\n",
            "  (1399, 1598)\t0.16849761485474632\n",
            "  (1399, 4175)\t0.1517587102868877\n",
            "  (1399, 521)\t0.1343959986450621\n",
            "  (1399, 2701)\t0.09665255895509832\n",
            "  (1399, 5353)\t0.1331008326265206\n",
            "  (1399, 5009)\t0.1474038928751451\n",
            "  (1399, 81)\t0.19169091465928287\n",
            "  (1399, 4180)\t0.40386074638610375\n",
            "  (1399, 2114)\t0.09075530099703139\n",
            "  (1399, 3298)\t0.18762731294442736\n",
            "  (1399, 2939)\t0.14543986898522493\n",
            "  (1399, 93)\t0.16849761485474632\n",
            "  (1399, 3020)\t0.1474038928751451\n",
            "  (1399, 3319)\t0.16653359096482614\n",
            "  (1399, 2214)\t0.1582581563209773\n",
            "  (1399, 3167)\t0.20193037319305188\n",
            "  (1399, 2886)\t0.17285243226648891\n",
            "  (1399, 4702)\t0.4349514410898509\n",
            "  (1399, 5057)\t0.2298147569036298\n",
            "  (1399, 3747)\t0.2298147569036298\n",
            "  (1399, 1856)\t0.2298147569036298\n"
          ]
        }
      ]
    },
    {
      "cell_type": "markdown",
      "source": [
        "Cosine Similarity"
      ],
      "metadata": {
        "id": "o2HMPzxIowPO"
      }
    },
    {
      "cell_type": "code",
      "source": [
        "#storing cosine similarities in similarity\n",
        "similarity=cosine_similarity(feature_vectors)"
      ],
      "metadata": {
        "id": "iYDg7LIRkjHf"
      },
      "execution_count": null,
      "outputs": []
    },
    {
      "cell_type": "code",
      "source": [
        "print(similarity)"
      ],
      "metadata": {
        "colab": {
          "base_uri": "https://localhost:8080/"
        },
        "id": "jpjSU0i5koE6",
        "outputId": "35b9f976-d66b-4476-b7dc-d4513d4ba4a6"
      },
      "execution_count": null,
      "outputs": [
        {
          "output_type": "stream",
          "name": "stdout",
          "text": [
            "[[1.         0.02324405 0.00735101 ... 0.02286047 0.01181832 0.04621893]\n",
            " [0.02324405 1.         0.05750428 ... 0.03434865 0.08728437 0.06353   ]\n",
            " [0.00735101 0.05750428 1.         ... 0.         0.04562549 0.01262951]\n",
            " ...\n",
            " [0.02286047 0.03434865 0.         ... 1.         0.05559826 0.0149011 ]\n",
            " [0.01181832 0.08728437 0.04562549 ... 0.05559826 1.         0.0312492 ]\n",
            " [0.04621893 0.06353    0.01262951 ... 0.0149011  0.0312492  1.        ]]\n"
          ]
        }
      ]
    },
    {
      "cell_type": "code",
      "source": [
        "print(similarity.shape)"
      ],
      "metadata": {
        "colab": {
          "base_uri": "https://localhost:8080/"
        },
        "id": "ZOL8gNF0kqgv",
        "outputId": "09e32c05-b1c1-4b92-90e3-350ef337ecf9"
      },
      "execution_count": null,
      "outputs": [
        {
          "output_type": "stream",
          "name": "stdout",
          "text": [
            "(1400, 1400)\n"
          ]
        }
      ]
    },
    {
      "cell_type": "code",
      "source": [
        "movie_name=input('Enter your favourite movie: ')"
      ],
      "metadata": {
        "colab": {
          "base_uri": "https://localhost:8080/"
        },
        "id": "aKmjZS9YkuDw",
        "outputId": "88ee98b6-785c-42ec-9a1d-d323f0e6d587"
      },
      "execution_count": null,
      "outputs": [
        {
          "name": "stdout",
          "output_type": "stream",
          "text": [
            "Enter your favourite movie: Baahubali The Benigging\n"
          ]
        }
      ]
    },
    {
      "cell_type": "code",
      "source": [
        "#creating a list with all the movie names present in dataset\n",
        "list_of_all_titles=movies_data['Movie'].tolist()\n",
        "print(list_of_all_titles)"
      ],
      "metadata": {
        "colab": {
          "base_uri": "https://localhost:8080/"
        },
        "id": "4GZmVgaPn2zx",
        "outputId": "46180d7f-6852-4aae-e134-35e01a7578b0"
      },
      "execution_count": null,
      "outputs": [
        {
          "output_type": "stream",
          "name": "stdout",
          "text": [
            "['Bahubali: The Beginning', 'Baahubali 2: The Conclusion', '1 - Nenokkadine', 'Dhoom:3', 'Ra.One', 'Dhoom:2', 'Eega', 'Krrish 3', 'Arjun Reddy', 'Rangasthalam', 'Magadheera', 'War', 'Bharat Ane Nenu', 'Saaho', 'Theri', 'Dookudu', 'Pokiri', 'Sarkar', 'Athadu', 'The Ghazi Attack', 'Kabali', 'MSG: The Messenger of God', 'Nanban', 'Srimanthudu', 'Veer - Vivegam', 'Billa 2', 'Manam', '7 Aum Arivu', 'Bigil', 'Business Man', 'Geetha Govindam', 'Mahanati', 'Spyder', 'Nannaku Prematho', 'Dabangg 3', 'MSG 2 the Messenger', 'Manikarnika: The Queen of Jhansi', 'Race Gurram', 'Okkadu', 'Bommarillu', 'Atharintiki Daaredi', 'Khaleja', 'Yennai Arindhaal', 'Thalaivaa', 'Kaala', 'Bairavaa', 'Goodachari', 'Puli', 'Pulimurugan', 'Veeram', 'Vedam', 'Yevadu', 'Aravindha Sametha Veera Raghava', 'Billa', 'Jersey', 'Sye Raa Narasimha Reddy', 'Ala Vaikunthapurramuloo', 'Janatha Garage', 'Gabbar Singh', 'Temper', 'Game Over', 'Singam 2', 'Dhruva', 'Jalsa', 'Maharshi', 'Pelli Choopulu', 'Arya 2', 'Chekka Chivantha Vaanam', 'Naa Peru Surya Na Illu India', 'Ki & Ka', 'Seethamma Vakitlo Sirimalle Chettu', 'Singam 3', 'Agent Sai Srinivasa Athreya', 'Jai Lava Kusa', 'Arya', 'Maattrraan', 'Kochadaiiyaan', 'Thaanaa Serndha Koottam', 'OK Kanmani', 'Dear Comrade', 'Happy Days', 'Sarileru Neekevvaru', 'Julayi', 'Kshanam', 'Oopiri', 'Baadshah', '3', 'Sarrainodu', 'Kick', 'Leader', 'Anjaan', 'Khushi', 'Maya Bazaar', 'Rakhta Charitra', 'Mirchi', 'Chatrapathi', 'C/o Kancharapalem', 'Sachein', 'Murari', 'Vikramarkudu', 'Kuruthipunal', 'Brindaavanam', 'Panjaa', 'Nuvvu Naaku Nachchav', 'Gopala Gopala', 'Kaappaan', 'Aagadu', 'Masss', 'Maanagaram', 'Drushyam', 'Yamadonga', 'S/O Satyamurthy', 'Tholi Prema', 'Awe!', 'Yatra', 'Fidaa', 'Oosaravelli', 'Evaru', 'Odiyan', 'Khaidi No 150', 'NGK', 'Duvvada Jagannadham', 'Bale Bale Magadivoy', 'Shiva', 'Manmadhudu', 'Mr Perfect', 'Orange', 'Anirudh', 'Gamyam', 'Kanche', 'Naayak', 'Malliswari', 'Nuvvostanante Nenoddantana', 'Ye Maaya Chesave', 'Sagara Sangamam', 'Rudhramadevi', 'Cameraman Gangatho Rambabu', 'Majili', 'Uttama Villain', 'Arundhati', 'Agnyaathavaasi', 'Pilla Zamindar', '100% Love', 'Aa Naluguru', 'Darling', 'Aha Naa Pellanta', 'Vinaya Vidheya Rama', 'Happy', 'Ala Modalaindi', 'Prasthanam', 'Dhee', 'Iddarammayilatho', 'Simhadri', 'Taxiwaala', 'Parugu', 'Rakhta Charitra 2', 'Maryada Ramanna', 'Rachcha', 'HIT', 'Nota', 'U Turn', 'Thammudu', 'Zanjeer', 'Ezra', 'Bhaagamathie', 'Adhurs', 'Aditya 369', 'Sardaar Gabbar Singh', 'Gitanjali', 'Ninnu Kori', 'Indra', 'Vishwaroopam 2', 'Oru Adaar Love', 'Tholi Prema', 'Brochevarevarura', '7/G Rainbow Colony', 'Tagore', 'Gang Leader', 'Bujjigaadu: Made in Chennai', 'Sye', 'Yevade Subramanyam', 'Mathu Vadalara', 'Katamarayudu', 'Maari 2', 'Gautamiputra Satakarni', 'Rx 100', 'A... Aa', 'Aalavandhan', 'F2: Fun and Frustration', 'The House Next Door', 'Krishna Gaadi Veera Prema Gaadha', 'Prince', 'Sankarabharanam', 'Thoongaavanam', 'Govindudu Andari Vaadele', 'Anand', 'Raja Kumarudu', 'Baba', 'Dhammu', 'Ramayya Vastavayya', 'NTR: Kathanayakudu', 'Chirutha', 'Thaandavam', 'Athidhi', 'Kshana Kshanam', 'Penguin', 'Rudra Veena', 'Legend', 'Annamayya', 'Badrinath', 'Nenu Local', 'Oh Baby...', 'Sketch', 'Hello Guru Prema Kosame', 'Rabhasa', 'Sainikudu', 'Ishq', 'Arjun', 'Badri', 'Krishnarjuna', 'Hello', 'Saleem', 'Nijam', 'Bruce Lee: The Fighter', 'MCA Middle Class Abbayi', 'Ee Nagaraniki Emaindi', 'Nenu Sailaja', 'Gentleman', 'Student No. 1', 'Kumari 21F', 'Billa', 'Love Ke Liye Kuch Bhi Karega', 'Run Baby Run', 'Chitralahari', 'Shankar Dada MBBS', 'Teen Maar', 'Kanthaswamy', 'Komaram Puli', 'Rebel', 'iSmart Shankar', 'Anukokunda Oka Roju', 'Bheeshma', 'Karthikeya', 'Desamuduru', 'Gunde Jaari Gallanthayyinde', 'Pailwan', 'World Famous Lover', 'Theeya Velai Seiyyanum Kumaru', 'Raja The Great', 'Kadaram Kondan', 'Sammohanam', 'Simha', 'Aithe', 'Takkari Donga', 'Kadhalil Sodhappuvadhu Yeppadi', 'Pammal K. Sambandam', 'Kanchana 2', 'Saroja', 'Vel', 'Pandavulu Pandavulu Thummeda', 'Doosukeltha', 'Gundamma Katha', 'Oohalu Gusagusalade', 'Rowdy', 'Devadas', 'Sokkali Mainor', 'Dhenikaina Ready', 'Political Rowdy', 'Anukshanam', 'Stalin', 'Godavari', 'Suryam', 'Balu', 'Savyasachi', 'Nene Raju Nene Mantri', 'Varsham', 'Kaashmora', 'Run Raja Run', 'Abhiyum Naanum', 'Eedo Rakam Aado Rakam', 'Asthram', 'Ready', 'Irandam Ulagam', 'Sree', 'Aadi', 'Jhummandi Naadam', 'Pandurangadu', 'Naani', 'Game', 'Shatamanam Bhavati', 'Mass', 'Swamy Ra Ra', 'Ekkadiki Pothavu Chinnavada', 'Amazon Obhijaan', 'Chi La Sow', 'Kaathala Kaathala', 'Kanchana 3', 'Vishnu', 'Rakhi', 'Oh My Friend', 'Balupu', 'Aadavari Matalaku Ardhalu Verule', 'Prayanam', 'Antariksham 9000 kmph', 'Konchem Ishtam Konchem Kashtam', 'Jamba Lakidi Pamba', 'Kotigobba 2', 'Kaadhal', 'Current Theega', 'MalliRaava', 'Saahasam Swaasaga Saagipo', 'Premam', 'Johnny', 'King', 'Endrendrum Punnagai', 'Mugamoodi', 'NTR Mahanayakudu', 'PSV Garuda Vega', 'Kurukshetra', 'Uu Kodathara Ulikki Padathara', 'Mr. Nookayya', 'Mirapakai', 'Nenu Meeku Telusa...?', 'Satya 2', 'Pooja', 'Naan Sigappu Manithan', 'Sakthi', 'Uyyala Jampala', 'Khadgam', 'Major Chandrakanth', 'Bachchan', 'Manu', 'Hyderabad Blues', 'Bunny', 'Ragile Gundelu', 'Sri Rama Rajyam', 'Varudu', 'Rakshasudu', 'Gharshana', 'Gaganam', 'Amar Akbar Anthony', 'Kathakali', 'Krishnarjuna Yudham', 'Express Raja', 'Kuselan', 'Don', 'Kantri', 'Malli Malli Idhi Rani Roju', 'Raju Bhai', 'Ayogya', 'Gudumba Shankar', 'Potugadu', 'Vastadu Naa Raju', 'Dubai Seenu', 'Dongata', 'Sahasam', 'Dynamite', 'Alex Pandian', 'Ragada', 'Run', 'Chalo', 'Munna', 'Disco Raja', 'Krishna and His Leela', 'Yeto Vellipoyindhi Manasu', 'Praana', 'Shankardada Zindabad', 'Padi Padi Leche Manasu', 'Punya Bhoomi Naa Desam', 'Quick Gun Murugun: Misadventures of an Indian Cowboy', 'Adavilo Anna', 'Thamizh Padam', 'Ek Niranjan', 'Annavaram', 'Bindaas', 'Prema Katha Chitram', 'Jagadeka Veerudu Athiloka Sundari', 'Vismayam', 'Missamma', 'Gaddalakonda Ganesh', 'Oka Laila Kosam', 'Venky Mama', 'Kick 2', 'Gayatri', '180', 'Shourya', 'Ashta Chamma', 'Sigappu Rojakkal', 'LIE', 'Power', 'Dev', 'Pataas', 'Okkadu Migiladu', 'Majnu', 'Srinivasa Kalyanam', 'Luck Unnodu', 'Amma Nanna O Tamila Ammayi', 'Jayasurya', 'Bangaram', 'Dora', 'Don Seenu', 'Vunnadhi Okate Zindagi', 'Krishnam Vande Jagadgurum', 'Killing Veerappan', 'Gunturodu', 'Mr. Majnu', 'Not Today', 'Oy!', 'Nuvve.. Nuvve...', 'Loukyam', 'Swathi Muthyam', 'Life Is Beautiful', 'Yuvaraju', 'Chal Mohan Ranga', 'Vamsee', 'Endukante... Premanta', 'Veyyil', 'Mallesham', 'Attack', 'Mosagallaku Mosagadu', 'Kandireega', 'Raju Gari Gadhi 2', 'Superstar Kidnap', 'Pournami', 'Ninne Pelladatha', 'Shailaja Reddy Alludu', 'Jamba Lakidi Pamba', 'Jaya Janaki Nayaka', 'Akkada Ammayi Ikkada Abbayi', 'Pichhodu', 'Bobby', 'Okka Kshanam', 'Achari America Yathra', 'Sathyaa', 'Bengal Tiger', 'Ashok', 'Coolie No. 1', 'Pathala Bhairavi', 'Goutham Nanda', 'Gang Leader', 'Golmaal', 'Mahanubhavudu', '118', 'Heart Attack', 'Dictator', 'Idiot', 'Neninthe', 'Rarandoi Veduka Chudham', 'Aswathama', 'Yamajaathakudu', 'Jaanu', 'Neevevaro', 'Power Unlimited 2', 'Guru', 'Kee', 'Jagadam', 'Daruvu', 'Damarukam', 'Super', 'Krishna: The Power of Indrakeeladri', 'Chakram', 'Size Zero', 'Bhadra', 'Erra Buss', \"Lakshmi's NTR\", 'Dhoni', 'Appatlo Okadundevadu', 'Akhil', 'Daana Veera Soora Karna', 'Aadhi Bhagavan', 'Devudu Chesina Manushulu', 'Falaknuma Das', 'Raju Maharaju', 'Adhipathi', 'Peda Rayudu', 'Nela Ticket', 'Prati Roju Pandaage', 'Veera', 'Kotha Bangaru Lokam', 'Santosham', 'Venky', 'Jai Simha', 'Nuvve Kavali', 'Samba', 'Lava Kusa', 'George Reddy', 'Subramanyam for Sale', 'Bhoot Returns', 'Suswagatham', 'Dohchay', 'Andala Rakshasi', 'Raja', 'Sambo Siva Sambho', 'Okkadunnadu', 'Manmadhudu 2', 'Paisa Vasool', 'Lakshmi', 'Chantabbai', 'Anji', 'Dhada', 'Uthama Puthiran', 'Jai Chiranjeeva', 'Magalir Mattum', 'Anaganaga O Dheerudu', 'Supreme Khiladi', 'Aakali Rajyam', 'Okka Magadu', 'Phoonk 2', 'Tappu Chesi Pappu Koodu', 'Bhairava Dweepam', 'Needi Naadi Oke Katha', 'Narasimha Naidu', 'Guru', 'Chintakayala Ravi', 'Yogi', 'Yaman', 'Anando Brahma', 'Vanaja', 'Raja Vaaru Rani Gaaru', 'Gangotri', 'Golimar', 'Narasimhudu', 'Swayam Krushi', 'Mental Madhilo', 'Gaayam', 'Rayalaseema Ramanna Chowdary', 'Gokulamlo Seetha', 'Rajanna', 'Madha', 'Hushaaru', 'Settai', 'Swarnakamalam', 'Tadakha', 'Nenu Naa Rakshasi', 'Diya', 'Vikram', 'Kadhal Desam', 'Mudra', 'Naa Autograph Sweet Memories', 'Dum Dum Dum', 'Challenge', 'Kalisundam Raa', 'Pandaga Chesko', 'Lakshmi', 'Daddy', 'Seetha', 'Kalki', 'Parama Veera Chakra', 'Samarasimha Reddy', 'Andhrawala', 'Hyper', 'Kalloori', 'Veera', 'Criminal', 'Gharana Mogudu', 'Namo Venkatesa', 'Karnan', 'Annayya', 'Mesthri', 'Little Soldiers', 'Alludu Seenu', 'Yuddham Sharanam', 'Khaidi', 'Shiva Shankar', 'Bavagaru Bagunnara?', 'Nannu Dochukunduvate', 'Hello Brother', 'Naa Alludu', 'Shamantakamani', 'Thulasi', 'Keshava', 'Maja', 'Aata', 'Choodalani Vundi', 'Ranarangam', 'Mukunda', 'Allari Police', 'Kirrak Party', 'Chenna Kesava Reddy', 'Sarocharu', 'Nadunisi Naaygal', 'Nagavalli', 'Ennaku 20 Unakku 18', 'Bodyguard', 'Raju Gari Gadhi 3', 'Josh', 'Greeku Veerudu', 'Lakshmi Narasimha', 'Autonagar Surya', 'Style', 'Shivamani', 'Surya vs. Surya', 'Swathi Kiranam', 'Alluda Majaaka!', 'Kavacham', 'Chinnadana Nee Kosam', 'Hrudaya Kaleyam', 'Mama Manchu Alludu Kanchu', 'Prathinidhi', 'Meesrti', 'Khatarnak', 'Ritu', 'Sri Ramadasu', 'Jawaan', 'Maalai Nerathu Mayakkam', 'Janaki Ramudu', 'Koduku Diddina Kapuram', 'Subedar Joginder Singh', 'Anasuya', 'Postman', 'Seven', 'Jil', 'Solo', 'Andarivaadu', 'Anthahpuram', 'Samrat Ashok', 'Aapathbandavudu', 'Aaha Kalyanam', 'Allari Pidugu', 'Officer', 'Paisa', 'Yaan', 'Alluri Seetharama Raju', 'Adavi Donga', 'Madhuram', 'Vasu', 'Shiva', 'Saakshyam', 'Shadow', 'Babu Bangaram', 'Shivam', 'Rayudu', 'Lion', 'Pantham', 'Govindha Govindha', 'Nippu', 'Pasivadi Pranam', 'Chanakya', 'Kondaveeti Raja', 'Jessie', 'Ninu Veedani Needanu Nene', 'E', 'Ramayanam', 'Meeku Matrame Chepta', 'Jay Jay', 'Naaga', 'Venkatadri Express', 'Golkonda High School', 'Khaidi No. 786', 'Morning Raga', 'Hitler', 'Anjaneyulu', 'Khaidi Garu', 'Thimiru', 'Loafer', 'Collector Garu', 'Tej I Love U', 'Winner', 'Anveshana', 'Ism', 'Abhinetri', 'Allari Ramudu', 'Devadasu', 'Kodama Simham', 'April 1 Vidudala', 'Lankeshwarudu', 'Kondaveeti Donga', 'O Pitta Katha', 'Mutamestri', 'Subbu', 'Pilla Nuvvu Leni Jeevitham', 'Sri Ramulayya', 'Boss', 'Anaganaga Oka Roju', 'Raghavendra', 'Kondaveeti Simhasanam', 'Cinema Chupista Maava', 'Sri Jagadguru Adi Shankara', 'Hawaa', 'Toofan', 'Ongole Githa', 'Chukkallo Chandrudu', 'Indrudu Chandrudu', 'Sankranthi', 'Aa Okkati Adakku', 'Eeshwar', 'Ratchakan', 'Maruthu', 'Yamudiki Mogudu', 'Police Police', 'Evvarikee Cheppoddu', 'Sudigaadu', 'Rama Rama Krishna Krishna', 'Geethanjali', 'Padamati Sandhya Ragam', 'Sri Manjunatha', 'Vennela', 'Jaguar', 'Marshal', 'Master', 'Maska', 'Assembly Rowdy', 'Mehbooba', 'Sneham Kosam', 'Sindhu Bhairavi', 'Adhinayakudu', 'Lakshyam', 'Adavi Ramudu', 'Kunti Puthrudu', 'Mathangi', 'Brahma', 'Alludugaru', 'Oka Chinna Viramam', 'Nenu Lenu', 'Mrugaraaju', 'Bharani', 'Dil', 'Ullasanga Utsahanga', 'Kedi', 'Shock', 'Jyo Achyutananda', 'Mithunam', 'Palasa 1978', 'Maro Charithra', 'Pelli Pustakam', 'Boy', 'Yamaleela', 'Suryavamsam', 'Kaakki Sattai', 'Ammoru', 'Ninnu Choodalani', 'Premante Idera', 'Devadasu', 'Ninaithale Inikkum', 'Jayam', 'Mugguru', 'Ganesh', 'Arjun Reddy', 'Vangaveeti', 'Chandamama Kathalu', 'Chandamama', 'Rowdy Fellow', 'Shirdi Sai', 'Sisindri', 'Manasantha Nuvve', 'Seetharamaiah Gari Manavaralu', 'Bhale Manchi Roju', 'Devi Putrudu', 'Super Duper', 'Subhash Chandra Bose', 'Hyderabad Blues 2', 'Vijetha', 'Veera Bhoga Vasantha Rayalu', 'Tik Tik Tik', 'Detective Naarada', 'Kalyana Vaibhogame', 'Heza', 'Narthanasala', 'Nenunnanu', 'Ganesh', 'Veedevadandi Babu', 'Sirivennela', 'Routine Love Story', 'Intlo Illalu Vantaintlo Priyuralu', 'Guna 369', 'Anandam', 'Masala', 'Entha Manchivaadavuraa', 'Ruler', 'Om Namo Venkatesaya', 'Gundello Godari', 'Rowdy Gari Pellam', 'Paper Boy', 'Mister', 'Raju Gari Gadhi', 'Thodarum', 'Allari Mogudu', 'Nirnayam', 'Dharma Bhai', 'Software Sudheer', 'Bhageeratha', 'Azaad', 'Minugurulu', 'Raaja Paarvai', 'Vijayendra Varama', 'Mogudu', 'Jayam Manadera', 'Oxygen', 'Athaku Yamudu Ammayiki Mogudu', 'Sindhooram', 'Bezawada', 'Satyam', 'Avunu Valliddaru Ishtapaddaru', 'Baladoor', '2 Hours Love', 'Sakalakala Vallavan', 'MLA', 'Appula Appa Rao', 'Radha', 'Ladies Tailor', 'Abhilasha', 'Srimannarayana', 'Katha Screenplay Darsakatvam: Appalaraju', 'Chandralekha', 'Maharadhi', 'Speedunnodu', 'Subhalekha', 'Asura', 'Palnati Brahmanayudu', '@ Nartanasala', 'Nuvvu Nenu', 'Rowdy Mogudu', 'Vijetha', 'Ravoyi Chandamama', 'Dream', 'Preminchukundam Raa', 'Vasantham', 'Chanti', 'Bobbili Raja', 'Kataka', 'Dongala Mutha', 'Chitemma Mogudu', 'Subha Sankalpam', 'Maa Inti Katha', 'W/o Ram', 'James Bond', 'Padmavyuham', 'Avunu', 'Veerabhadra', 'Iddaru Mitrulu', 'Singham123', 'Anaamika', 'Sasirekha Parinayam', 'Bendu Apparao RMP', 'Rajaratha', 'Danger', 'Andari Bandhuvaya', 'Seenu', 'Janda Pai Kapiraju', 'Deyyam', 'Rowdy Alludu', 'Krishna Aur Kans', 'Seema Tapakai', 'Mahathma', 'Baanam', 'Bhai', 'Itlu Sravani Subramanyam', 'Sathyam', 'Bhale Ramudu', 'Pressure Cooker', 'Ranam', 'Aavida Maa Aavide', 'Alavuddinum Athbutha Vilakkum', 'Naa Mogudu Nanke Sontham', 'Sri Anjaneyam', 'Chiru Navvuto', 'Operation Gold Fish', 'Subrahmanyapuram', 'Baava', 'Veera Prathap', 'Courier Boy Kalyan', 'Jabardasth', 'Pellam Oorelithe', 'Hanuman Junction', 'Money', 'Ninnu Thalachi', 'Jayammu Nischayammuu Raa', 'A Film by Aravind', 'Ye Mantram Vesave', 'Bhakta Prahlada', 'Souryam', 'Blade Babji', 'Devi', 'Gulabi', 'Rajendrudru Gajendrudru', 'Lovely', 'Adhirindhi Alludu', 'Andhrudu', 'Malliswari', 'Bluff Master', 'Aatagadharaa Siva', 'Rechipo', 'Kadhal Sadugudu', 'Ra Ra Krishnayya', 'Nuvvu Vasthavani', 'Prathigna', 'Life Before Wedding', 'Silly Fellows', 'Donga Police', 'Sundara Kanda', 'Chitram Bhalare Vichitram', 'Ninne Premistha', 'Sahasa Veerudu Sagara Kanya', 'Bhookailas', 'Antham', 'Ami Thumi', 'Oka Manasu', 'Aatadista', 'Poola Rangadu', 'Kitakitalu', 'Money Money', 'Prema Katha', 'Enga Veetu Pillai', 'Missamma', 'Sitaramaraju', 'Desa dimmari', 'Sparsha', 'Case No. 666/2013', 'I Love You', 'Nayaki', 'Ee Rojullo', 'Kamma Rajyam Lo Kadapa Reddlu', 'Mugguru Monagallu', '24 Kisses', 'Next Enti?', 'Naa Bangaaru Talli', 'Anthaka Mundu Aa Tarvatha', 'Edadugula Bandham', 'Naa Nuvve', 'All the Best', 'Ranga (S.S.L.C)', 'Maanavudu Daanavudu', 'Athanokkade', 'Seema Sastry', 'Amma Cheppindi', 'Kalyanaraman', 'Sankham', 'Ride', 'Ave Kallu', 'Suryakantham', 'Bhale Dongalu', 'Kousalya Krishnamurthy', 'Andhhagadu', 'Okka Ammayi Thappa', 'Bheemli Kabadi Jattu', 'Naa Ishtam', 'Saptapadhi', 'Voter', 'Sankarabharanam', 'Chaarulatha', 'Prema Kavali', 'Ontari', 'Killer', 'Mr. Pellam', 'Ammammagarillu', 'Brand Babu', 'Bama Vijayam', 'Mitrudu', 'Mr. Medhavi', 'Dharma Chakram', 'Chettu Kinda Pleader', 'Hippi', 'Aha Naa Pellanta', 'Veta', 'Aatagallu', 'Thikka', 'Dorasani', 'Allari Bullodu', 'Peddarikam', 'Kalathur Kannamma', 'Raju Gadu', 'Guntur Talkies', 'Kshemanga Velli Labhamga Randi', 'Kotha Janta', 'Iddari Lokam Okate', 'Eduruleni Manishi', 'Mathru Devo Bhava', 'Kittu Unnadu Jagratha', 'Ice Cream', 'Nuvva Nena', 'Rama Chakkani Seetha', 'Jappanil Kalyanaraman', 'Idaya Kovil', 'Jaihind 2', 'Nuvvila', 'Srivaariki Premalekha', 'Mard Ki Zabaan 2', 'Hyderabad Nawabs', 'Veede', 'Nari Nari Naduma Murari', 'Mayalodu', 'Raja Vikramarka', 'ABCD: American-Born Confused Desi', 'Alludu Diddina Kapuram', 'Hare Ram', 'Yamagola', 'Meendum Kokila', 'M Dharmaraju M.A.', 'Prema Panjaram', 'Tenali Ramakrishna BA.BL', 'Gowtham SSC', 'Kanchana', 'Mayuri', 'Swayamvaram', 'Seetharamula Kalyanam Lankalo', 'Pavitra Bandham', 'Bala Gopaludu', 'Yuvakudu', 'Jayammu Nischayammu Raa!', 'Manchi Donga', 'Big Boss', 'Idam Jagath', 'Happy Wedding', 'Nuvvu Leka Nenu Lenu', 'Thoongathey Tambi Thoongathey', 'Yamudiki Mogudu', 'Bommana Brothers Chanadana Sisters', 'Rowdy Inspector', 'Sontham', 'Annai Oru Aalayam', 'Wanted', 'Panchakshari', 'Snehamante Idera', 'Soggadi Pellam', 'Bhale Donga', '1st Rank Raju', 'Dongodu', 'Devullu', 'Sardar Papa Rayudu', 'Srinivasa Kalyanam', 'Pourudu', 'Amrutha Ramam', 'Prematho Raa', 'Bumper Offer', 'Mangamma Gari Manavadu', 'Yudda Bhoomi', 'Rayalaseema Love Story', 'Soggadu', 'Budget Padmanabham', 'Swargam Narakam', 'Manmatha Leelai', 'Emo Gurram Egaravachu', 'Ayyare', 'Valayam', 'Babai Abbai', 'Two Town Rowdy', 'State Rowdy', 'Aradhana', 'Idhi Mamulu Prema Katha Kaadu', 'Rey', 'Prema Yuddham', 'Samudram', 'Kabaddi Kabaddi', 'Sruthilayalu', 'Rikshavodu', 'Muthyala Muggu', 'Napoleon', 'Bazaar Rowdy', 'Pelli Sandadi', 'Idi Ma Prema Katha', 'Babu Baga Busy', 'Rogue', 'Bhanumathi & Ramakrishna', 'S. P. Parasuram', 'Ala Ela', 'Kevvu Keka', 'Mantra', 'Runam', 'Choopulu Kalasina Subhavela', 'Manoharam', 'Agni', 'Appu Chesi Pappu Koodu', 'Siddu from Srikakulam', 'Nachavule', 'Yagnam', 'Mee Sreyobhilashi', 'Kadapa Redamma', 'Ghatotkachudu', 'Jagadeka Veeruni Katha', 'Kanyasulkam', 'Snehamera Jeevitham', 'Kobbari Matta', 'Dhruvanakshatram', 'Per Sollum Pillai', 'Vivaha Bhojanambu', 'Shanti Kranti', 'Sukumarudu', 'Fitting Master', 'Operation Duryodhana', 'Prema', 'Mooga Manasulu', 'Ontari Poratam', 'Tandra Paparayudu', 'Nireekshana', 'Premaabhishekam', 'Savaari', 'Surya IPS', 'Maharasan', 'Chakravarthy', 'Lover', 'Jadoogadu', 'Allari Alludu', 'Pandava Vanavasamu', 'Mechanic Alludu', 'Kondaveeti Simham', 'Malini 22', 'Bobbili Simham', 'Show', 'Varasudochhadu', 'Family Circus', 'Edurinti Mogudu Pakkinti Pellam', 'Adavi Ramudu', 'Donga', 'Aakhari Poratam', 'Rough', 'Paathshala', 'Kathi Kanta Rao', 'Pelli Chesukundam', 'Black Tiger', 'Sri Krishna Pandaveeyam', 'Nakshatram', 'Subhalagnam', 'Hai Hai Nayaka', 'Om Shanti', 'Pellaina Kothalo', 'Anukunnadi Okkati Ayyindhi Okati', 'Grahanam', 'Chinnabaabu', 'Karthavyam', 'Raakshasudu', 'Neeya', 'D for Dopidi', 'Mugguru Kodukulu', 'Balachandrudu', 'Vinodam', 'Vijay', 'Sri Shirdi Saibaba Mahathyam', 'Anthuleni Katha', 'Mithai', 'Tiger', 'Luv U Alia', 'Brother of Bommali', 'Mr. Pellikodukku', 'Broker', 'Current', 'Evadi Gola Vadide', 'Bangaru Bullodu', 'Karma', 'Murali Krishnudu', 'Varasudu', 'Seetha Rama Kalyanam', 'Rendu Rella Aaru', 'Sampoorna Ramayanam', 'Chuttalabbayi', 'Columbus', 'Raagala 24 Gantallo', 'Andala Ramudu', 'Brahma Puthrudu', 'Alibaba Aradajanu Dongalu', 'Thipparaa Meesam', 'Sitaara', 'Chettaniki Kallu Levu', 'Manasuku Nachindhi', 'Om 3D', 'Action', 'Dongala Bandi', 'Sultan', 'Love Today', 'Samanyudu', 'Sathruvu', 'Gandeevam', 'Punnami Naagu', 'Jyothi Lakshmi', 'Avakai Biryani', 'Lorry Driver', 'Padaharella Vayasu', 'Prananiki Pranam', 'Akasa Veedhilo', 'Totti Gang', 'Allari', 'Savitri', 'Peddinti Alludu', '143', 'Superman', 'Abhinandana', 'Justice Chowdhary', 'Gharana Bullodu', 'Intlo Ramayya Veedilo Krishnayya', 'Anna Thamudu', 'Krishnamma Kalipindi Iddarini', 'Nandhi', 'Sons of Ram', 'Kondapalli Raja', 'Bava Nachadu', 'Seema Simham', 'Sandade Sandadi', 'Donga Ramudu', 'Vetagadu', 'Sher', 'Kaamannana Makkalu', 'Vinayakudu', 'Dongaata', '90 ML', 'Kathanam', 'Ramudu Bheemudu', 'Patel S.I.R', 'Nagarahaavu', 'Selfie Raja', 'Wish You Happy Breakup', 'Lovers', 'Ramudochhadu', 'Radha Gopalam', 'Donga Mogudu', 'Rangula Raatnam', 'Adda', 'Kalidasu', 'Ela Cheppanu', 'Vishwanatha Nayakudu', 'Sri Madvirat Veera Brahmendra Swamy Charitra', 'Brahma', 'Madatha Kaaja', 'Dollar Dreams', 'Betting Bangarraju', 'Athili Sathibabu LKG', 'Vinara sodara veera kumara', 'Tenali Ramakrishna', 'Maharshi', 'Idi Kathakaadu', 'Agni Nakshatram', 'Bandipotu', 'Onamalu', 'Vaana', 'Jodi', 'Madhumasam', 'Bhakta Prahlada', 'Team 5', 'Sandhippoma', 'Ice Cream 2', 'Okkadine', 'Kiccha Huccha', 'Visakha Express', 'Aaviri', 'Brindavanam', 'Rudranetra', 'Kaali', 'Bobbili Puli', 'Manavoori Pandavulu', 'Next Nuvve', 'Joru', 'Ko antey koti', 'Kalyan Ram Kathi', 'Priyamyna Neeku...', 'Vamsodharakudu', 'Super Police', 'Bamma Maata Bangaru Baata', 'Mantra 2', 'Prema Ishq Kaadhal', 'Galipatam', 'Katha', 'Peddannayya', 'Lakshmi Kalyanam', 'Avunanna Kadanna', 'Bava Bava Panneeru', 'Balakrishnudu', 'Partha', 'Athade Oka Sainyam', 'Rakshana', 'Garam', 'Raja Cheyyi Vesthe', \"It's My Love Story\", 'Okariki Okaru', 'Kurradu', 'Homam', 'Raahu', 'Gulebakavali Katha', 'Nene Raju Nene Manthri', 'Osey Ramulamma', 'Trinetrudu', 'Oka Oori Katha', 'Bhale Manchi Chowka Beram', 'Bhairava Geetha', 'Naanna Nenu Naa Boyfriends', 'Basanti', 'Mansara', 'Gaayam 2', 'Village lo Vinayakudu', 'Abbaigaru', 'Ammo Okato Tariku', 'Raksha', 'Stoovertpuram Police Station', 'Srimanthudu', 'Lakshmi Raave Maa Intiki', 'Mr. Theertha', 'Ee Abbai Chala Manchodu', 'Yemaindi Ee Vela', 'Aadu Puli Attam', 'Subhakankshalu', 'Samsaaram Oka Chadarangam', 'Intinti Bhagavatham', 'Driver Ramudu', 'Saradaga Kasepu', 'Snehithuda', 'Kaasi', 'Prema Pipasi', 'Uyarntha Ullam', 'Pekata Paparao', 'Praja pratinidhi', 'Meghasandesam', 'Joker', 'Marana Mrudangam', 'Maa Bhoomi', 'Kerintha', 'Tripura', '123', 'Jaffa', 'Jai Bolo Telangana', 'Nee Sneham', 'Maro Charitra', 'Aswamedham', 'Rachayitha', 'Terror', 'Avunu Part 2', 'Kashi from Village', 'Aadu Magaadra Bujji', 'Papikondalu', 'RDX Love', 'Rajdooth', 'Classmates', 'Oka Radha Iddaru Krishnulu', 'Sri Kanaka Mahalakshmi Recording Dance Troupe', 'Sri Krishnarjuna Yudham', 'Rambantu', 'Intlo Dayyam Nakemi Bhayam', 'Amrutham Chandamama Lo', 'Nirmala Convent', 'Gruha Pravesam', 'Beach Road Chetan', 'Undiporaadhey', 'Sardar Dharmanna', 'Biwi No. 2', 'Muddula Mavayya', 'Parugo Parugu', 'Top Hero', 'Allari Priyudu', 'Jebu Donga', 'Devatha', 'Thayillamal Nannilai', 'Nandini Nursing Home', 'Nenu', 'Muddula Mogudu', 'Dhairyam', 'Pravarakyudu', 'Choosi Choodangaane', 'Burra katha', 'Mayabazaar', 'Panduranga Mahatyam', 'Ankuram', 'Manthrigari Viyyankudu', '365 Days', 'Maa Alludu Verygood', 'Nampalli Nagu', 'Sambaram', 'Kurukshetramu', 'Chanakya Chandragupta', 'Parthal Pasi Theerum', 'Krishnashtami', 'Malaikottai', 'Thakita Thakita', 'Inkosari', 'Kalusukovalani', 'Raam', 'Neeku Nenu Naaku Nuvvu', 'Golmaal Govindam', 'Taskara', 'SMS - Siva Manasulo Sruthi', 'Nammanna', 'Neeku Naaku Dash Dash', 'Sneha Geetham', 'Baachi', 'Ammo Bomma', 'Swagatam', 'Evadithe Nakenti', 'Mosagalaku Mosagaadu', 'Kalyana Ramudu', 'Chinnabbayi', 'Ugranarasimham', 'Paramanandayya Shishyula Katha', 'Adhugo', 'Seethamma Andalu Ramayya Sitralu', 'Run', 'Raaj', 'Takkari', 'Victory', 'Screenplay of an Indian Love Story', 'Chal Mohana Ranga', 'Andha Oru Nimidam', 'Maavichiguru', 'Sri Krishnarjuna Vijayam', 'Gudachari No.1', 'Billa Ranga', 'Vicky Dada', 'Kondura (The Sage from the Sea)', 'Money Money More Money', 'President Gari Pellam', 'Evaraina Eppudaina', 'Maro Monagadu', 'Jakkanna', 'Muvva Gopaludu', 'Ninney Ishta Paddaanu', '9 Nelalu']\n"
          ]
        }
      ]
    },
    {
      "cell_type": "code",
      "source": [
        "#finding a close match for the movie name given by the user\n",
        "find_close_match=difflib.get_close_matches(movie_name,list_of_all_titles)"
      ],
      "metadata": {
        "id": "hhlFqqN-pX91"
      },
      "execution_count": null,
      "outputs": []
    },
    {
      "cell_type": "code",
      "source": [
        "print(find_close_match)"
      ],
      "metadata": {
        "colab": {
          "base_uri": "https://localhost:8080/"
        },
        "id": "PS0aWL7Wp6j5",
        "outputId": "d49c6df1-811c-4a6d-a986-3471376cbe9a"
      },
      "execution_count": null,
      "outputs": [
        {
          "output_type": "stream",
          "name": "stdout",
          "text": [
            "['Bahubali: The Beginning', 'Baahubali 2: The Conclusion']\n"
          ]
        }
      ]
    },
    {
      "cell_type": "code",
      "source": [
        "close_match=find_close_match[0]\n",
        "print(close_match)"
      ],
      "metadata": {
        "colab": {
          "base_uri": "https://localhost:8080/"
        },
        "id": "pvNgibzeqjxT",
        "outputId": "d27b56ea-730c-4272-9599-dd2233e6e0f0"
      },
      "execution_count": null,
      "outputs": [
        {
          "output_type": "stream",
          "name": "stdout",
          "text": [
            "Bahubali: The Beginning\n"
          ]
        }
      ]
    },
    {
      "cell_type": "code",
      "source": [
        "#finding the index of the movie with title\n",
        "index_of_the_movie=movies_data[movies_data.Movie==close_match]['Index'].values[0]\n",
        "print(index_of_the_movie)"
      ],
      "metadata": {
        "colab": {
          "base_uri": "https://localhost:8080/"
        },
        "id": "wBFxhlIZrAyw",
        "outputId": "5ed65629-85a6-4428-bcdb-1dbc5f72ce0c"
      },
      "execution_count": null,
      "outputs": [
        {
          "output_type": "stream",
          "name": "stdout",
          "text": [
            "0\n"
          ]
        }
      ]
    },
    {
      "cell_type": "code",
      "source": [
        "#getting a list of similar movies\n",
        "similarity_score=list(enumerate(similarity[index_of_the_movie]))"
      ],
      "metadata": {
        "id": "CEs6nkIqj50E"
      },
      "execution_count": null,
      "outputs": []
    },
    {
      "cell_type": "code",
      "source": [
        "print(similarity_score)"
      ],
      "metadata": {
        "colab": {
          "base_uri": "https://localhost:8080/"
        },
        "id": "bmh4ANrGzlO0",
        "outputId": "cf9b6034-9e3c-45d6-d42d-10c92bb854b3"
      },
      "execution_count": null,
      "outputs": [
        {
          "output_type": "stream",
          "name": "stdout",
          "text": [
            "[(0, np.float64(1.0000000000000002)), (1, np.float64(0.023244045031615514)), (2, np.float64(0.007351010592699853)), (3, np.float64(0.03600817542313371)), (4, np.float64(0.021803643389756537)), (5, np.float64(0.009669259336848292)), (6, np.float64(0.04302601549909576)), (7, np.float64(0.048683441224766894)), (8, np.float64(0.017409043936582852)), (9, np.float64(0.01925926283186412)), (10, np.float64(0.015075677378666368)), (11, np.float64(0.03698085846392866)), (12, np.float64(0.07086297098304602)), (13, np.float64(0.16142690811294846)), (14, np.float64(0.010173869908571859)), (15, np.float64(0.019633101048071387)), (16, np.float64(0.012599644407574755)), (17, np.float64(0.05242950200645333)), (18, np.float64(0.03448340389744975)), (19, np.float64(0.0051378353010509414)), (20, np.float64(0.009293265711139892)), (21, np.float64(0.05461806003334637)), (22, np.float64(0.036372770840818226)), (23, np.float64(0.09162967565432889)), (24, np.float64(0.020700896581761472)), (25, np.float64(0.03156893981207746)), (26, np.float64(0.02843151055985213)), (27, np.float64(0.04040869026381354)), (28, np.float64(0.018361311925946595)), (29, np.float64(0.03112874889660848)), (30, np.float64(0.0645558196779915)), (31, np.float64(0.15281071585764722)), (32, np.float64(0.057601764256709466)), (33, np.float64(0.035051931376450345)), (34, np.float64(0.027660777836201203)), (35, np.float64(0.017921889199768986)), (36, np.float64(0.01669545729880996)), (37, np.float64(0.07090777048697874)), (38, np.float64(0.046376377532109075)), (39, np.float64(0.03341230741749704)), (40, np.float64(0.02366056311552183)), (41, np.float64(0.006178065793232672)), (42, np.float64(0.03238451131094947)), (43, np.float64(0.0665178482900373)), (44, np.float64(0.0435012723326637)), (45, np.float64(0.02085348201769024)), (46, np.float64(0.008401904180051762)), (47, np.float64(0.07580934074991687)), (48, np.float64(0.038495850653484404)), (49, np.float64(0.029378914182384308)), (50, np.float64(0.10506602732680846)), (51, np.float64(0.0399559926229936)), (52, np.float64(0.023233287861794516)), (53, np.float64(0.008425608773777812)), (54, np.float64(0.017569900616823897)), (55, np.float64(0.04656700126409221)), (56, np.float64(0.011873952466490506)), (57, np.float64(0.07644354523894381)), (58, np.float64(0.013821251708236296)), (59, np.float64(0.014679349861638186)), (60, np.float64(0.022777141328948675)), (61, np.float64(0.03561234413688726)), (62, np.float64(0.021908895840684693)), (63, np.float64(0.02975737578048836)), (64, np.float64(0.07106253199108531)), (65, np.float64(0.030158898508179974)), (66, np.float64(0.0059961682667832245)), (67, np.float64(0.04780935787469674)), (68, np.float64(0.02190646762880031)), (69, np.float64(0.021759577230671127)), (70, np.float64(0.08233004083997691)), (71, np.float64(0.02014123842615066)), (72, np.float64(0.017747285140282173)), (73, np.float64(0.02571413529185345)), (74, np.float64(0.04112152764747795)), (75, np.float64(0.018917987676253634)), (76, np.float64(0.016001323519483496)), (77, np.float64(0.027508608790329927)), (78, np.float64(0.030686503102029986)), (79, np.float64(0.015257373384187365)), (80, np.float64(0.030985739177927324)), (81, np.float64(0.011819812704656044)), (82, np.float64(0.037597148433743795)), (83, np.float64(0.0446105740866302)), (84, np.float64(0.0042854406513887075)), (85, np.float64(0.045987886791060806)), (86, np.float64(0.02455176017439746)), (87, np.float64(0.11526277514063393)), (88, np.float64(0.02624476842288605)), (89, np.float64(0.054668538698849495)), (90, np.float64(0.009978437760264535)), (91, np.float64(0.03515985152370907)), (92, np.float64(0.004672433717324862)), (93, np.float64(0.04306289287090817)), (94, np.float64(0.04857104577516111)), (95, np.float64(0.029972761003275544)), (96, np.float64(0.08586283651472361)), (97, np.float64(0.05730832934104259)), (98, np.float64(0.06610396601451432)), (99, np.float64(0.00619255937840461)), (100, np.float64(0.025246480212787237)), (101, np.float64(0.025126255521175665)), (102, np.float64(0.02105959844556732)), (103, np.float64(0.012300545506232649)), (104, np.float64(0.057264955078477495)), (105, np.float64(0.012620361875426731)), (106, np.float64(0.024068451693295228)), (107, np.float64(0.03225434921740859)), (108, np.float64(0.035999187211850955)), (109, np.float64(0.00527027155027454)), (110, np.float64(0.005793704104577356)), (111, np.float64(0.07018314580760789)), (112, np.float64(0.015962124149635146)), (113, np.float64(0.018923615735596883)), (114, np.float64(0.02274094913546891)), (115, np.float64(0.03457874515673247)), (116, np.float64(0.007770972192431009)), (117, np.float64(0.003796145527118134)), (118, np.float64(0.029525799087931008)), (119, np.float64(0.03224150387787768)), (120, np.float64(0.08449409444589602)), (121, np.float64(0.01750249836083537)), (122, np.float64(0.015571919801565005)), (123, np.float64(0.03798569763691796)), (124, np.float64(0.0)), (125, np.float64(0.06374141987909661)), (126, np.float64(0.03601811244851702)), (127, np.float64(0.07151478446412536)), (128, np.float64(0.07126323075835489)), (129, np.float64(0.08789201637583408)), (130, np.float64(0.044327011034055924)), (131, np.float64(0.06279700978333244)), (132, np.float64(0.05088215595011855)), (133, np.float64(0.009710964665249571)), (134, np.float64(0.0061199319042720066)), (135, np.float64(0.057942172375997886)), (136, np.float64(0.034156210062829415)), (137, np.float64(0.02472059013227549)), (138, np.float64(0.004372702004862606)), (139, np.float64(0.011792449491884675)), (140, np.float64(0.04257176409107099)), (141, np.float64(0.02910751037160245)), (142, np.float64(0.03256015381951752)), (143, np.float64(0.030531418756345338)), (144, np.float64(0.056627771528210746)), (145, np.float64(0.0)), (146, np.float64(0.011801856609266664)), (147, np.float64(0.05926284374839422)), (148, np.float64(0.017566287464734466)), (149, np.float64(0.011423383470543004)), (150, np.float64(0.012353932036468986)), (151, np.float64(0.06995139724449853)), (152, np.float64(0.040433166998042495)), (153, np.float64(0.0)), (154, np.float64(0.006946486965408441)), (155, np.float64(0.03630113456804569)), (156, np.float64(0.09850882493283288)), (157, np.float64(0.025547638526253573)), (158, np.float64(0.05598208396518544)), (159, np.float64(0.006527971775517424)), (160, np.float64(0.02963753334398997)), (161, np.float64(0.026135496582615558)), (162, np.float64(0.01099124137730556)), (163, np.float64(0.010720598550827928)), (164, np.float64(0.01837775002571432)), (165, np.float64(0.02923425007567643)), (166, np.float64(0.025811709603792088)), (167, np.float64(0.01382653748442473)), (168, np.float64(0.019113706046781448)), (169, np.float64(0.03047876196737139)), (170, np.float64(0.09740064716665661)), (171, np.float64(0.020451451852249863)), (172, np.float64(0.008424045797732527)), (173, np.float64(0.009619111919162805)), (174, np.float64(0.01014691155335088)), (175, np.float64(0.02853532954128951)), (176, np.float64(0.02294089587677818)), (177, np.float64(0.006506239815432643)), (178, np.float64(0.03575956593724987)), (179, np.float64(0.017853240482572422)), (180, np.float64(0.039587018785287933)), (181, np.float64(0.015206909518853392)), (182, np.float64(0.03689314102275418)), (183, np.float64(0.006484205356638945)), (184, np.float64(0.06385289062478072)), (185, np.float64(0.05565453276447191)), (186, np.float64(0.061283248991638783)), (187, np.float64(0.012410268640363646)), (188, np.float64(0.013145765900765919)), (189, np.float64(0.020789275482989762)), (190, np.float64(0.03129061777113366)), (191, np.float64(0.03370645612412137)), (192, np.float64(0.0482180876376756)), (193, np.float64(0.021307967326918958)), (194, np.float64(0.06657177325106944)), (195, np.float64(0.04643619565028811)), (196, np.float64(0.016704836808105014)), (197, np.float64(0.028412522175512545)), (198, np.float64(0.025116791103190546)), (199, np.float64(0.029728740396824372)), (200, np.float64(0.011374916816312391)), (201, np.float64(0.08803230521275539)), (202, np.float64(0.03851729103093729)), (203, np.float64(0.012475924121079309)), (204, np.float64(0.08402533561333643)), (205, np.float64(0.01077964562742368)), (206, np.float64(0.03388899675844004)), (207, np.float64(0.053228284312870744)), (208, np.float64(0.0)), (209, np.float64(0.0362449829304176)), (210, np.float64(0.03361988319390415)), (211, np.float64(0.08934202976421421)), (212, np.float64(0.007090725970218946)), (213, np.float64(0.05043690772349187)), (214, np.float64(0.00512494223553973)), (215, np.float64(0.019842086291763116)), (216, np.float64(0.022436119926839637)), (217, np.float64(0.05234019109151975)), (218, np.float64(0.04082151351378219)), (219, np.float64(0.0421520124495396)), (220, np.float64(0.033954915028520265)), (221, np.float64(0.014427979178205184)), (222, np.float64(0.04803763397452935)), (223, np.float64(0.027413886659267087)), (224, np.float64(0.03103951704919184)), (225, np.float64(0.011114336567516555)), (226, np.float64(0.008472706301803372)), (227, np.float64(0.01667893067322926)), (228, np.float64(0.031184186096303156)), (229, np.float64(0.02752534486878886)), (230, np.float64(0.008611937201990445)), (231, np.float64(0.004856025324676775)), (232, np.float64(0.08900536518473473)), (233, np.float64(0.03231643326901734)), (234, np.float64(0.0)), (235, np.float64(0.042257231171424194)), (236, np.float64(0.059398939076521204)), (237, np.float64(0.00790190694453096)), (238, np.float64(0.016903720244352414)), (239, np.float64(0.027982816781076423)), (240, np.float64(0.01815498777544881)), (241, np.float64(0.024223975567628165)), (242, np.float64(0.009661664066130045)), (243, np.float64(0.01237798570711013)), (244, np.float64(0.023978916981724094)), (245, np.float64(0.03600884420943706)), (246, np.float64(0.049326061560865955)), (247, np.float64(0.0)), (248, np.float64(0.01249064371047641)), (249, np.float64(0.021393469860890937)), (250, np.float64(0.04811837656023517)), (251, np.float64(0.047944125081971524)), (252, np.float64(0.023646575664107303)), (253, np.float64(0.024280224351052183)), (254, np.float64(0.04228756594976718)), (255, np.float64(0.0)), (256, np.float64(0.08736707368825618)), (257, np.float64(0.027939012769693204)), (258, np.float64(0.024753588794078893)), (259, np.float64(0.029004121929746593)), (260, np.float64(0.013127668190119696)), (261, np.float64(0.003676784168244772)), (262, np.float64(0.014097505215214485)), (263, np.float64(0.10298425623476162)), (264, np.float64(0.025947723347081522)), (265, np.float64(0.011642418898723982)), (266, np.float64(0.04994890706805091)), (267, np.float64(0.009128771228223032)), (268, np.float64(0.008249200665539986)), (269, np.float64(0.09572660037133904)), (270, np.float64(0.05969579330143143)), (271, np.float64(0.036799218212714334)), (272, np.float64(0.007773378980534411)), (273, np.float64(0.008559630327084313)), (274, np.float64(0.013770382326784313)), (275, np.float64(0.03710466999728254)), (276, np.float64(0.11499396680730431)), (277, np.float64(0.08243601338764198)), (278, np.float64(0.009332356888373378)), (279, np.float64(0.03557741506897927)), (280, np.float64(0.02455030993376666)), (281, np.float64(0.00758091191341528)), (282, np.float64(0.0936864572608816)), (283, np.float64(0.1979854231564656)), (284, np.float64(0.011452468894551253)), (285, np.float64(0.009036221490519955)), (286, np.float64(0.024218966432317784)), (287, np.float64(0.05553655352984037)), (288, np.float64(0.07320426525285956)), (289, np.float64(0.006182035123989456)), (290, np.float64(0.05099720707773858)), (291, np.float64(0.005785413318454774)), (292, np.float64(0.00991139837337384)), (293, np.float64(0.024615777091679572)), (294, np.float64(0.004195666083886781)), (295, np.float64(0.04491238746256149)), (296, np.float64(0.032082043165987534)), (297, np.float64(0.013274520730992534)), (298, np.float64(0.04095469408903025)), (299, np.float64(0.12258521200400627)), (300, np.float64(0.02486133404082655)), (301, np.float64(0.0445346798517355)), (302, np.float64(0.05998138080484292)), (303, np.float64(0.01624802982390741)), (304, np.float64(0.013509036842840766)), (305, np.float64(0.03789921097333151)), (306, np.float64(0.01609278757118343)), (307, np.float64(0.03571306149479936)), (308, np.float64(0.014790367892902584)), (309, np.float64(0.013331199043508142)), (310, np.float64(0.021576090577333132)), (311, np.float64(0.02053955149179791)), (312, np.float64(0.02614347210873362)), (313, np.float64(0.0339460274304938)), (314, np.float64(0.013318773030913429)), (315, np.float64(0.02902675167913625)), (316, np.float64(0.01015653541846762)), (317, np.float64(0.08578447790208606)), (318, np.float64(0.005261622729269967)), (319, np.float64(0.03999243328496653)), (320, np.float64(0.023990085820721527)), (321, np.float64(0.04312196496267242)), (322, np.float64(0.03953370885868166)), (323, np.float64(0.031487525275639985)), (324, np.float64(0.016429663030165152)), (325, np.float64(0.08362181378680564)), (326, np.float64(0.024631316449495917)), (327, np.float64(0.07476169321752928)), (328, np.float64(0.028401615731062948)), (329, np.float64(0.030370464891291242)), (330, np.float64(0.007015189763618698)), (331, np.float64(0.020608558823882434)), (332, np.float64(0.02065916004534641)), (333, np.float64(0.049286594136814216)), (334, np.float64(0.02379875228600637)), (335, np.float64(0.008043078716707603)), (336, np.float64(0.04438716460243855)), (337, np.float64(0.02594427867774861)), (338, np.float64(0.044879930325642005)), (339, np.float64(0.006061142212484821)), (340, np.float64(0.03673469740481301)), (341, np.float64(0.054713815153839676)), (342, np.float64(0.008115217097962112)), (343, np.float64(0.07267185905992758)), (344, np.float64(0.05455852082636019)), (345, np.float64(0.10351525913632426)), (346, np.float64(0.027214127308538102)), (347, np.float64(0.0)), (348, np.float64(0.07691035351646491)), (349, np.float64(0.016024288707947414)), (350, np.float64(0.020545455093331083)), (351, np.float64(0.02281062716158791)), (352, np.float64(0.023543137204967424)), (353, np.float64(0.04126987478176976)), (354, np.float64(0.00900776033105155)), (355, np.float64(0.05857460342873606)), (356, np.float64(0.01571573526888046)), (357, np.float64(0.007149397576240668)), (358, np.float64(0.09860468473995239)), (359, np.float64(0.019912302628876513)), (360, np.float64(0.08834641794488216)), (361, np.float64(0.011997379395169327)), (362, np.float64(0.06440714300826436)), (363, np.float64(0.04359568403744192)), (364, np.float64(0.06568759446254231)), (365, np.float64(0.07059072783420652)), (366, np.float64(0.005356171038275443)), (367, np.float64(0.029180384712558516)), (368, np.float64(0.02104951870490636)), (369, np.float64(0.012991076255582393)), (370, np.float64(0.028595998104055192)), (371, np.float64(0.01583311980468512)), (372, np.float64(0.030731018049971134)), (373, np.float64(0.013645844725341076)), (374, np.float64(0.02314512198314121)), (375, np.float64(0.01853100768698982)), (376, np.float64(0.023053433183461876)), (377, np.float64(0.02990743239044073)), (378, np.float64(0.05414419599118778)), (379, np.float64(0.0241044718197218)), (380, np.float64(0.022021031449900846)), (381, np.float64(0.04391984814819684)), (382, np.float64(0.08940533922232567)), (383, np.float64(0.11658186492916289)), (384, np.float64(0.0816397245261258)), (385, np.float64(0.07520124210012867)), (386, np.float64(0.003887547332093808)), (387, np.float64(0.024071400460499444)), (388, np.float64(0.015998425448960227)), (389, np.float64(0.053533919815266465)), (390, np.float64(0.022368858742970822)), (391, np.float64(0.0064900991423580984)), (392, np.float64(0.05903987848796524)), (393, np.float64(0.057598826450468044)), (394, np.float64(0.010620096982798439)), (395, np.float64(0.015438342773871587)), (396, np.float64(0.010455359452502805)), (397, np.float64(0.0070940286810554625)), (398, np.float64(0.03100643891331053)), (399, np.float64(0.02698974484729312)), (400, np.float64(0.03283757815172473)), (401, np.float64(0.04567631237952306)), (402, np.float64(0.06390447972594708)), (403, np.float64(0.023906393516153264)), (404, np.float64(0.061870810025791645)), (405, np.float64(0.01060327435444101)), (406, np.float64(0.10514319157422788)), (407, np.float64(0.019360048355606646)), (408, np.float64(0.008981590018988898)), (409, np.float64(0.062147405874175485)), (410, np.float64(0.029989769222492992)), (411, np.float64(0.016860132133088086)), (412, np.float64(0.033021173633483156)), (413, np.float64(0.03419059862531769)), (414, np.float64(0.022870054633323058)), (415, np.float64(0.017187346932191386)), (416, np.float64(0.03398255484066261)), (417, np.float64(0.01131900334668319)), (418, np.float64(0.012774839149860617)), (419, np.float64(0.08537820419173633)), (420, np.float64(0.028092438995016025)), (421, np.float64(0.006392658296855645)), (422, np.float64(0.0194830368598855)), (423, np.float64(0.026194950674421454)), (424, np.float64(0.030399827860193046)), (425, np.float64(0.06074994442670592)), (426, np.float64(0.028756374280261544)), (427, np.float64(0.023052374453528722)), (428, np.float64(0.042534555436113425)), (429, np.float64(0.004609737761977763)), (430, np.float64(0.18308533622182116)), (431, np.float64(0.014504361121372943)), (432, np.float64(0.052115184096449566)), (433, np.float64(0.03500653019630582)), (434, np.float64(0.005412571522522255)), (435, np.float64(0.010372210197679897)), (436, np.float64(0.08113771034243972)), (437, np.float64(0.057975904897825184)), (438, np.float64(0.02526013367595003)), (439, np.float64(0.03232667707778068)), (440, np.float64(0.007844592263720822)), (441, np.float64(0.023295794305956234)), (442, np.float64(0.017753912180678434)), (443, np.float64(0.03158046246958705)), (444, np.float64(0.06208400958856841)), (445, np.float64(0.024363433318041465)), (446, np.float64(0.037586593081717676)), (447, np.float64(0.053505441442870116)), (448, np.float64(0.03217280015413218)), (449, np.float64(0.028787862835281536)), (450, np.float64(0.0783475533547408)), (451, np.float64(0.028790905264520765)), (452, np.float64(0.032920636923121915)), (453, np.float64(0.04406892214717687)), (454, np.float64(0.0484265538181779)), (455, np.float64(0.027395250737963044)), (456, np.float64(0.020829795580794584)), (457, np.float64(0.012679708781384566)), (458, np.float64(0.04866261658355185)), (459, np.float64(0.02863799211589317)), (460, np.float64(0.012348458247592096)), (461, np.float64(0.009936125324010354)), (462, np.float64(0.13535015116466756)), (463, np.float64(0.035068034879978095)), (464, np.float64(0.0057238670700744945)), (465, np.float64(0.06517695385091465)), (466, np.float64(0.005940103842494079)), (467, np.float64(0.03775669754147152)), (468, np.float64(0.01779683289565187)), (469, np.float64(0.10701684245858453)), (470, np.float64(0.0822581515342872)), (471, np.float64(0.02229636249929135)), (472, np.float64(0.0)), (473, np.float64(0.01817214629988923)), (474, np.float64(0.04661073192321919)), (475, np.float64(0.03683398130870647)), (476, np.float64(0.018168464166799826)), (477, np.float64(0.08301789584596311)), (478, np.float64(0.016668738267422295)), (479, np.float64(0.030805554366152045)), (480, np.float64(0.026390363743424523)), (481, np.float64(0.014073671989921072)), (482, np.float64(0.0)), (483, np.float64(0.07739228584391679)), (484, np.float64(0.010834276660909598)), (485, np.float64(0.053381656373480954)), (486, np.float64(0.008210811118255695)), (487, np.float64(0.012359944567222506)), (488, np.float64(0.04149866214059998)), (489, np.float64(0.023676359750637775)), (490, np.float64(0.011663428699896212)), (491, np.float64(0.04334918090672643)), (492, np.float64(0.03974046595134781)), (493, np.float64(0.03346726700258368)), (494, np.float64(0.0048081024346234465)), (495, np.float64(0.009015647540461748)), (496, np.float64(0.0639942203375321)), (497, np.float64(0.0)), (498, np.float64(0.04532328834562766)), (499, np.float64(0.11116895605299174)), (500, np.float64(0.01013971797038114)), (501, np.float64(0.012845186849003567)), (502, np.float64(0.023483843171918962)), (503, np.float64(0.06715042529397271)), (504, np.float64(0.0779910232683156)), (505, np.float64(0.013156934586436884)), (506, np.float64(0.020529719075847913)), (507, np.float64(0.0204768693662715)), (508, np.float64(0.0)), (509, np.float64(0.01930076731860699)), (510, np.float64(0.009397478753517428)), (511, np.float64(0.07679491771851256)), (512, np.float64(0.016780075915201614)), (513, np.float64(0.03449520035301375)), (514, np.float64(0.035787056543172706)), (515, np.float64(0.035137493895491215)), (516, np.float64(0.021574267467268017)), (517, np.float64(0.06355474369404915)), (518, np.float64(0.050390465389796815)), (519, np.float64(0.008572959407990865)), (520, np.float64(0.08135853808830842)), (521, np.float64(0.01761408994898983)), (522, np.float64(0.02663789411758896)), (523, np.float64(0.09486539855827314)), (524, np.float64(0.015706761222817986)), (525, np.float64(0.03038792475571196)), (526, np.float64(0.025661206384180152)), (527, np.float64(0.05324943888917781)), (528, np.float64(0.0)), (529, np.float64(0.013318598596891095)), (530, np.float64(0.007093412324721023)), (531, np.float64(0.018843530263718863)), (532, np.float64(0.012786159321370361)), (533, np.float64(0.05609812614785776)), (534, np.float64(0.024185069512291123)), (535, np.float64(0.01525197057533615)), (536, np.float64(0.10749626621086322)), (537, np.float64(0.02260305962667817)), (538, np.float64(0.03055026218698761)), (539, np.float64(0.02839810522649726)), (540, np.float64(0.004332716581324009)), (541, np.float64(0.06682279474983666)), (542, np.float64(0.05597436595557798)), (543, np.float64(0.024059146175091882)), (544, np.float64(0.01679909103067506)), (545, np.float64(0.055484540736756446)), (546, np.float64(0.00887258546454216)), (547, np.float64(0.019515961872136958)), (548, np.float64(0.06987485920963363)), (549, np.float64(0.13272135819626052)), (550, np.float64(0.053440744849885764)), (551, np.float64(0.08844291737571058)), (552, np.float64(0.039853678561933156)), (553, np.float64(0.00916873099125916)), (554, np.float64(0.03826426423131224)), (555, np.float64(0.007789667670531883)), (556, np.float64(0.032738290136952425)), (557, np.float64(0.025728699027225025)), (558, np.float64(0.04096913924853237)), (559, np.float64(0.04653795643480871)), (560, np.float64(0.06187207357866389)), (561, np.float64(0.015004897013034967)), (562, np.float64(0.008796346942706982)), (563, np.float64(0.036883778344449836)), (564, np.float64(0.055089265514571696)), (565, np.float64(0.0217813147646346)), (566, np.float64(0.04889228326310485)), (567, np.float64(0.009597227601293093)), (568, np.float64(0.006402734497538822)), (569, np.float64(0.004492371316941822)), (570, np.float64(0.01465897486981933)), (571, np.float64(0.062060616024832135)), (572, np.float64(0.020694785348028)), (573, np.float64(0.07952353724548687)), (574, np.float64(0.009181419311793098)), (575, np.float64(0.014941875473711095)), (576, np.float64(0.022733419344950594)), (577, np.float64(0.01821961681567965)), (578, np.float64(0.08376384622651782)), (579, np.float64(0.055392729080509046)), (580, np.float64(0.005548971459952476)), (581, np.float64(0.023787858394111294)), (582, np.float64(0.023223014186558366)), (583, np.float64(0.010421913590296454)), (584, np.float64(0.04319933897051696)), (585, np.float64(0.03530952114143256)), (586, np.float64(0.04467541026161469)), (587, np.float64(0.02225034454667335)), (588, np.float64(0.02463146830665196)), (589, np.float64(0.021605259430301598)), (590, np.float64(0.040092360869209094)), (591, np.float64(0.026183294102668085)), (592, np.float64(0.005777138545931089)), (593, np.float64(0.02203776893678513)), (594, np.float64(0.01926299816838191)), (595, np.float64(0.14732434063156305)), (596, np.float64(0.0)), (597, np.float64(0.051621674159885625)), (598, np.float64(0.027918765008439574)), (599, np.float64(0.08236987903421875)), (600, np.float64(0.005903397367871287)), (601, np.float64(0.03189500419088306)), (602, np.float64(0.0)), (603, np.float64(0.008369917425613806)), (604, np.float64(0.050813073853335416)), (605, np.float64(0.04444259771020607)), (606, np.float64(0.03733997950075607)), (607, np.float64(0.06053736961680883)), (608, np.float64(0.04406149756083683)), (609, np.float64(0.024811025235241077)), (610, np.float64(0.0615855707485614)), (611, np.float64(0.006994542605483572)), (612, np.float64(0.04721005232212549)), (613, np.float64(0.01762894047212438)), (614, np.float64(0.016985528230777373)), (615, np.float64(0.0209654477903946)), (616, np.float64(0.016490736671228048)), (617, np.float64(0.01835434168017333)), (618, np.float64(0.02229311594949995)), (619, np.float64(0.030074198070844674)), (620, np.float64(0.07638351441025737)), (621, np.float64(0.06594054373345715)), (622, np.float64(0.01397994266777817)), (623, np.float64(0.03537650912503386)), (624, np.float64(0.006256040082675228)), (625, np.float64(0.010648717711310107)), (626, np.float64(0.016499143673101194)), (627, np.float64(0.04632880790176167)), (628, np.float64(0.02202703370448876)), (629, np.float64(0.0196931033670344)), (630, np.float64(0.019230020108974344)), (631, np.float64(0.020171376244938116)), (632, np.float64(0.05415567325512341)), (633, np.float64(0.014596129790447106)), (634, np.float64(0.021670449957836645)), (635, np.float64(0.028834060392149717)), (636, np.float64(0.07014156277076983)), (637, np.float64(0.036973574332854905)), (638, np.float64(0.11269427425623467)), (639, np.float64(0.0445019879069651)), (640, np.float64(0.03980814567079546)), (641, np.float64(0.024458020800545502)), (642, np.float64(0.03295183595492757)), (643, np.float64(0.04421836813267946)), (644, np.float64(0.0)), (645, np.float64(0.08236987903421875)), (646, np.float64(0.004788963943245238)), (647, np.float64(0.030105631662362554)), (648, np.float64(0.04332352252499864)), (649, np.float64(0.008308030983434016)), (650, np.float64(0.0188559377588821)), (651, np.float64(0.006639936538767394)), (652, np.float64(0.029089040922985178)), (653, np.float64(0.01461512650655341)), (654, np.float64(0.04623450563418136)), (655, np.float64(0.016021719735327074)), (656, np.float64(0.024522592749997317)), (657, np.float64(0.06393012035110177)), (658, np.float64(0.0388796801873815)), (659, np.float64(0.03698192960053871)), (660, np.float64(0.0035974964806458837)), (661, np.float64(0.08393629577548946)), (662, np.float64(0.04149628021566352)), (663, np.float64(0.006107095400141956)), (664, np.float64(0.030771449476644095)), (665, np.float64(0.04155839934906433)), (666, np.float64(0.0558548463539774)), (667, np.float64(0.1326148611024624)), (668, np.float64(0.015243440678442459)), (669, np.float64(0.07691035351646491)), (670, np.float64(0.041733810418298975)), (671, np.float64(0.08236987903421875)), (672, np.float64(0.004090361969672771)), (673, np.float64(0.03593594406426646)), (674, np.float64(0.014468342360022873)), (675, np.float64(0.11269427425623467)), (676, np.float64(0.015008866988661109)), (677, np.float64(0.004569114771261487)), (678, np.float64(0.030606740603440045)), (679, np.float64(0.018115815500334906)), (680, np.float64(0.01606171309324885)), (681, np.float64(0.00862603645289558)), (682, np.float64(0.009481754639435652)), (683, np.float64(0.029080546371033432)), (684, np.float64(0.0)), (685, np.float64(0.11269427425623467)), (686, np.float64(0.037463970387855705)), (687, np.float64(0.0184174763808325)), (688, np.float64(0.050465861704756386)), (689, np.float64(0.004576203344432239)), (690, np.float64(0.0242911157738466)), (691, np.float64(0.012715591615108858)), (692, np.float64(0.05776812927028542)), (693, np.float64(0.0)), (694, np.float64(0.07373914148260151)), (695, np.float64(0.00845974272544757)), (696, np.float64(0.0)), (697, np.float64(0.010192641590068514)), (698, np.float64(0.021128810095107895)), (699, np.float64(0.017391275060388893)), (700, np.float64(0.03776922132292294)), (701, np.float64(0.2045749076727073)), (702, np.float64(0.030947239676901744)), (703, np.float64(0.056250128759652955)), (704, np.float64(0.008500711668649814)), (705, np.float64(0.03602840465230653)), (706, np.float64(0.038972700528116605)), (707, np.float64(0.04356298716042744)), (708, np.float64(0.07691035351646491)), (709, np.float64(0.014878464268282831)), (710, np.float64(0.08236987903421875)), (711, np.float64(0.020008147103556584)), (712, np.float64(0.026018741879209308)), (713, np.float64(0.04249404979516319)), (714, np.float64(0.0722353225410282)), (715, np.float64(0.049446816386346404)), (716, np.float64(0.06448707006375164)), (717, np.float64(0.03911354078251784)), (718, np.float64(0.05641759255991119)), (719, np.float64(0.06727624566593517)), (720, np.float64(0.026557757049823834)), (721, np.float64(0.012640781914316552)), (722, np.float64(0.01876027602851768)), (723, np.float64(0.04891712649847072)), (724, np.float64(0.02214167877978859)), (725, np.float64(0.008512137886268912)), (726, np.float64(0.03590421268795338)), (727, np.float64(0.030053837733979127)), (728, np.float64(0.03475712193935934)), (729, np.float64(0.02767526809922411)), (730, np.float64(0.03645915972103406)), (731, np.float64(0.020834723414409586)), (732, np.float64(0.08271611330713109)), (733, np.float64(0.005898207987305966)), (734, np.float64(0.034631375019260106)), (735, np.float64(0.0)), (736, np.float64(0.0)), (737, np.float64(0.05355724975753452)), (738, np.float64(0.01804317675705005)), (739, np.float64(0.06232506143648867)), (740, np.float64(0.03029238913888678)), (741, np.float64(0.1947646623764026)), (742, np.float64(0.008681494381590773)), (743, np.float64(0.0)), (744, np.float64(0.0597552837764037)), (745, np.float64(0.03692203638541128)), (746, np.float64(0.038013224680392664)), (747, np.float64(0.09147302155898321)), (748, np.float64(0.0442642156628616)), (749, np.float64(0.05070261050590446)), (750, np.float64(0.011355475360248363)), (751, np.float64(0.02624779647881814)), (752, np.float64(0.024737205036037622)), (753, np.float64(0.018763229702361627)), (754, np.float64(0.031213542040052385)), (755, np.float64(0.055199165793298366)), (756, np.float64(0.017172298730438375)), (757, np.float64(0.004779628186855711)), (758, np.float64(0.08236987903421875)), (759, np.float64(0.01787130847456705)), (760, np.float64(0.0)), (761, np.float64(0.009247774134874327)), (762, np.float64(0.011660974858597893)), (763, np.float64(0.004483857494743825)), (764, np.float64(0.009043881707896226)), (765, np.float64(0.037136596824221164)), (766, np.float64(0.009342261599484062)), (767, np.float64(0.0519524626342598)), (768, np.float64(0.03018287903483831)), (769, np.float64(0.01838355238924593)), (770, np.float64(0.004166610840989609)), (771, np.float64(0.007131301870829062)), (772, np.float64(0.0)), (773, np.float64(0.06786724159052049)), (774, np.float64(0.05951779583191808)), (775, np.float64(0.010515345849748382)), (776, np.float64(0.04660606596279354)), (777, np.float64(0.08393629577548946)), (778, np.float64(0.024447633583192803)), (779, np.float64(0.02533894114410451)), (780, np.float64(0.05559881125220466)), (781, np.float64(0.023578312678699337)), (782, np.float64(0.07772220827371205)), (783, np.float64(0.030412392918667035)), (784, np.float64(0.054079829199666626)), (785, np.float64(0.023154363841478853)), (786, np.float64(0.056008522023093796)), (787, np.float64(0.07001614591584666)), (788, np.float64(0.05408832637903118)), (789, np.float64(0.054768939983663105)), (790, np.float64(0.0474356667472759)), (791, np.float64(0.019853344822420328)), (792, np.float64(0.03540816466973437)), (793, np.float64(0.004369670742198869)), (794, np.float64(0.02096825237351521)), (795, np.float64(0.037039078690777855)), (796, np.float64(0.06247882302708457)), (797, np.float64(0.0)), (798, np.float64(0.027574263677289698)), (799, np.float64(0.021887266327091065)), (800, np.float64(0.008937537434751076)), (801, np.float64(0.009173058646526866)), (802, np.float64(0.02711088178641201)), (803, np.float64(0.0)), (804, np.float64(0.04942040754839518)), (805, np.float64(0.024545647389177694)), (806, np.float64(0.023390758155813967)), (807, np.float64(0.0638616780528928)), (808, np.float64(0.11140423229572441)), (809, np.float64(0.06406083275322469)), (810, np.float64(0.0)), (811, np.float64(0.07691035351646491)), (812, np.float64(0.008797037576526117)), (813, np.float64(0.04444259771020607)), (814, np.float64(0.0058296193563994745)), (815, np.float64(0.04268655979870586)), (816, np.float64(0.062120435170593416)), (817, np.float64(0.013057451289112072)), (818, np.float64(0.008756304146987465)), (819, np.float64(0.019590331261051558)), (820, np.float64(0.06801573262697723)), (821, np.float64(0.004835175613196249)), (822, np.float64(0.03923678900970111)), (823, np.float64(0.0)), (824, np.float64(0.014866070865384431)), (825, np.float64(0.013962177185253678)), (826, np.float64(0.009627723284065089)), (827, np.float64(0.014929990477047541)), (828, np.float64(0.03404264228593308)), (829, np.float64(0.06146896363969665)), (830, np.float64(0.026525346100371914)), (831, np.float64(0.01477608217944142)), (832, np.float64(0.0)), (833, np.float64(0.0)), (834, np.float64(0.03473844596648036)), (835, np.float64(0.0)), (836, np.float64(0.020687715829503708)), (837, np.float64(0.026411795609163992)), (838, np.float64(0.03143647222487129)), (839, np.float64(0.0)), (840, np.float64(0.019348059889956432)), (841, np.float64(0.049938814515342385)), (842, np.float64(0.054191907371657605)), (843, np.float64(0.031427132908868775)), (844, np.float64(0.01543080448356928)), (845, np.float64(0.031055003588196538)), (846, np.float64(0.02573833231314024)), (847, np.float64(0.05628603679908949)), (848, np.float64(0.01873707616574285)), (849, np.float64(0.027149059832144037)), (850, np.float64(0.06042820158072679)), (851, np.float64(0.033606867908486354)), (852, np.float64(0.0038655280732703265)), (853, np.float64(0.0039120608905575515)), (854, np.float64(0.019297320309009144)), (855, np.float64(0.020132080701907838)), (856, np.float64(0.024522469766627007)), (857, np.float64(0.07246832642054749)), (858, np.float64(0.019792145762738293)), (859, np.float64(0.02443999265834048)), (860, np.float64(0.006125599909424967)), (861, np.float64(0.07425901595559425)), (862, np.float64(0.0430426365374371)), (863, np.float64(0.08315274907232964)), (864, np.float64(0.05535371670826255)), (865, np.float64(0.01158031964018517)), (866, np.float64(0.038825557715310474)), (867, np.float64(0.004263617134270524)), (868, np.float64(0.017550826799443378)), (869, np.float64(0.006819583200622842)), (870, np.float64(0.058779413098929284)), (871, np.float64(0.0)), (872, np.float64(0.009547153383877346)), (873, np.float64(0.034075144826195725)), (874, np.float64(0.008491574745837182)), (875, np.float64(0.0)), (876, np.float64(0.07691035351646491)), (877, np.float64(0.050553271763276175)), (878, np.float64(0.015315774792811356)), (879, np.float64(0.016637041059615974)), (880, np.float64(0.0329436049924193)), (881, np.float64(0.004925065394535517)), (882, np.float64(0.04456364951020424)), (883, np.float64(0.0)), (884, np.float64(0.008214709906655258)), (885, np.float64(0.0)), (886, np.float64(0.044011291566155214)), (887, np.float64(0.06952078548432677)), (888, np.float64(0.08393629577548946)), (889, np.float64(0.0)), (890, np.float64(0.011689176010143012)), (891, np.float64(0.00418184969114172)), (892, np.float64(0.03377850738384023)), (893, np.float64(0.06461100296176484)), (894, np.float64(0.022851827080116627)), (895, np.float64(0.05265729452401378)), (896, np.float64(0.06491696920757294)), (897, np.float64(0.02614675141838553)), (898, np.float64(0.03513151724032031)), (899, np.float64(0.04660606596279354)), (900, np.float64(0.01779903345704469)), (901, np.float64(0.05878678626355541)), (902, np.float64(0.038041989899500375)), (903, np.float64(0.021646309226911478)), (904, np.float64(0.08113771034243972)), (905, np.float64(0.06711064227531152)), (906, np.float64(0.008591300121102036)), (907, np.float64(0.043716764449999244)), (908, np.float64(0.0049633954139566665)), (909, np.float64(0.0)), (910, np.float64(0.011671812627478505)), (911, np.float64(0.009840916679475065)), (912, np.float64(0.02053643926444177)), (913, np.float64(0.004604250563209918)), (914, np.float64(0.025626116579717025)), (915, np.float64(0.018318033708152322)), (916, np.float64(0.19931863434750124)), (917, np.float64(0.07691035351646491)), (918, np.float64(0.027783589449061473)), (919, np.float64(0.07691035351646491)), (920, np.float64(0.055927788241454605)), (921, np.float64(0.0)), (922, np.float64(0.11269427425623467)), (923, np.float64(0.04660197242340912)), (924, np.float64(0.021327787187610987)), (925, np.float64(0.0177401840382354)), (926, np.float64(0.09149269715673522)), (927, np.float64(0.0036522284602761627)), (928, np.float64(0.017964105107559566)), (929, np.float64(0.016175324041648315)), (930, np.float64(0.010948091371136883)), (931, np.float64(0.01373745275824418)), (932, np.float64(0.0)), (933, np.float64(0.053893115823078125)), (934, np.float64(0.0)), (935, np.float64(0.04191095215641023)), (936, np.float64(0.023240054658435844)), (937, np.float64(0.035406259408291146)), (938, np.float64(0.009714103491558698)), (939, np.float64(0.0)), (940, np.float64(0.03452334375724822)), (941, np.float64(0.03360049259644299)), (942, np.float64(0.04663521555957999)), (943, np.float64(0.05566469786489097)), (944, np.float64(0.0)), (945, np.float64(0.026918559005713993)), (946, np.float64(0.029270434054699423)), (947, np.float64(0.020468151477267063)), (948, np.float64(0.04444259771020607)), (949, np.float64(0.009930034241737482)), (950, np.float64(0.010904153508759245)), (951, np.float64(0.09891510416108576)), (952, np.float64(0.015331627394310182)), (953, np.float64(0.02520632013323664)), (954, np.float64(0.04880860838074756)), (955, np.float64(0.04492467263651314)), (956, np.float64(0.05341028058334961)), (957, np.float64(0.014394916934862442)), (958, np.float64(0.08393629577548946)), (959, np.float64(0.02332150392463674)), (960, np.float64(0.01123129564253681)), (961, np.float64(0.1252588831773866)), (962, np.float64(0.022214899092471017)), (963, np.float64(0.026027805344800828)), (964, np.float64(0.04450938813601389)), (965, np.float64(0.053373013454802526)), (966, np.float64(0.008087969419237133)), (967, np.float64(0.0266129163532626)), (968, np.float64(0.0068544661724813764)), (969, np.float64(0.026866485341205316)), (970, np.float64(0.020735821786451065)), (971, np.float64(0.005873561448046409)), (972, np.float64(0.0166232940431056)), (973, np.float64(0.04252650232183957)), (974, np.float64(0.009712323101188544)), (975, np.float64(0.0)), (976, np.float64(0.03501956582815318)), (977, np.float64(0.0)), (978, np.float64(0.031184305635866504)), (979, np.float64(0.04236865188982214)), (980, np.float64(0.014842791010701108)), (981, np.float64(0.012562279321610428)), (982, np.float64(0.013597072534341125)), (983, np.float64(0.01876388558758378)), (984, np.float64(0.005137871708252826)), (985, np.float64(0.00691281756016466)), (986, np.float64(0.05785715292350991)), (987, np.float64(0.036883778344449836)), (988, np.float64(0.036883778344449836)), (989, np.float64(0.11557097344145115)), (990, np.float64(0.02312734857502926)), (991, np.float64(0.07691035351646491)), (992, np.float64(0.03335899969257362)), (993, np.float64(0.031100738743243574)), (994, np.float64(0.04700096805578079)), (995, np.float64(0.03540816466973437)), (996, np.float64(0.07691035351646491)), (997, np.float64(0.011633569883965791)), (998, np.float64(0.03785384888363544)), (999, np.float64(0.05529784779988682)), (1000, np.float64(0.0935773329560726)), (1001, np.float64(0.06325287303498252)), (1002, np.float64(0.03292104925471324)), (1003, np.float64(0.0)), (1004, np.float64(0.029446411417642832)), (1005, np.float64(0.035092243565975026)), (1006, np.float64(0.009283543312238862)), (1007, np.float64(0.04954915942235285)), (1008, np.float64(0.08236987903421875)), (1009, np.float64(0.01863403251295223)), (1010, np.float64(0.028787862610801428)), (1011, np.float64(0.005236279129243335)), (1012, np.float64(0.011944402795764971)), (1013, np.float64(0.07691035351646491)), (1014, np.float64(0.08393629577548946)), (1015, np.float64(0.019117331120765788)), (1016, np.float64(0.008591112375941796)), (1017, np.float64(0.07124078897222719)), (1018, np.float64(0.01622969186356976)), (1019, np.float64(0.07691035351646491)), (1020, np.float64(0.02108943801120813)), (1021, np.float64(0.013680855918434369)), (1022, np.float64(0.0)), (1023, np.float64(0.06013306211375034)), (1024, np.float64(0.010901247732742274)), (1025, np.float64(0.04499758162300396)), (1026, np.float64(0.02401037872525824)), (1027, np.float64(0.013654500456405542)), (1028, np.float64(0.04660606596279354)), (1029, np.float64(0.04660606596279354)), (1030, np.float64(0.060565365815476946)), (1031, np.float64(0.03634798530447992)), (1032, np.float64(0.01355712839916012)), (1033, np.float64(0.04865414993855224)), (1034, np.float64(0.0)), (1035, np.float64(0.08113771034243972)), (1036, np.float64(0.02268977635864646)), (1037, np.float64(0.014994459866131338)), (1038, np.float64(0.045496217951892445)), (1039, np.float64(0.0587385824586859)), (1040, np.float64(0.0)), (1041, np.float64(0.025448500722381917)), (1042, np.float64(0.0379522884639056)), (1043, np.float64(0.023390758155813967)), (1044, np.float64(0.11269427425623467)), (1045, np.float64(0.005789584943122139)), (1046, np.float64(0.038701183619284464)), (1047, np.float64(0.01970421551785205)), (1048, np.float64(0.01590651176301295)), (1049, np.float64(0.018731254262067783)), (1050, np.float64(0.04967204586171688)), (1051, np.float64(0.020976428518653868)), (1052, np.float64(0.02762226539137158)), (1053, np.float64(0.0249233950370724)), (1054, np.float64(0.0)), (1055, np.float64(0.01133344708032117)), (1056, np.float64(0.025462469194267583)), (1057, np.float64(0.0)), (1058, np.float64(0.02477886951398664)), (1059, np.float64(0.07404609313644588)), (1060, np.float64(0.0)), (1061, np.float64(0.01297905644006421)), (1062, np.float64(0.0)), (1063, np.float64(0.018507578594082322)), (1064, np.float64(0.013289335628959481)), (1065, np.float64(0.07691035351646491)), (1066, np.float64(0.08236987903421875)), (1067, np.float64(0.0056794763045357475)), (1068, np.float64(0.006934061872432137)), (1069, np.float64(0.016498974574902837)), (1070, np.float64(0.10249915761277735)), (1071, np.float64(0.009265235827387133)), (1072, np.float64(0.11269427425623467)), (1073, np.float64(0.017926034046276865)), (1074, np.float64(0.0)), (1075, np.float64(0.05627427308939449)), (1076, np.float64(0.015440100743876799)), (1077, np.float64(0.008602975176435228)), (1078, np.float64(0.02780532112727928)), (1079, np.float64(0.022742114508301603)), (1080, np.float64(0.011866017900853369)), (1081, np.float64(0.08236987903421875)), (1082, np.float64(0.0757373290101467)), (1083, np.float64(0.023311447070231955)), (1084, np.float64(0.010192144356294666)), (1085, np.float64(0.010746603638610396)), (1086, np.float64(0.0363171620852651)), (1087, np.float64(0.007782043272021616)), (1088, np.float64(0.023249330488514477)), (1089, np.float64(0.026165266358254346)), (1090, np.float64(0.011928036977844643)), (1091, np.float64(0.07691035351646491)), (1092, np.float64(0.007982147049114345)), (1093, np.float64(0.012099782461656057)), (1094, np.float64(0.028929672357925745)), (1095, np.float64(0.008950681272390388)), (1096, np.float64(0.07691035351646491)), (1097, np.float64(0.03589585282182216)), (1098, np.float64(0.010770797314826165)), (1099, np.float64(0.036883778344449836)), (1100, np.float64(0.004545845628208038)), (1101, np.float64(0.08762482971164427)), (1102, np.float64(0.04589833118353961)), (1103, np.float64(0.017882754859173552)), (1104, np.float64(0.05193113621238073)), (1105, np.float64(0.07858067483323411)), (1106, np.float64(0.0)), (1107, np.float64(0.07691035351646491)), (1108, np.float64(0.0)), (1109, np.float64(0.0218451355546761)), (1110, np.float64(0.011242140206809484)), (1111, np.float64(0.07691035351646491)), (1112, np.float64(0.0)), (1113, np.float64(0.03551894921454752)), (1114, np.float64(0.009594909084520502)), (1115, np.float64(0.009112789152027354)), (1116, np.float64(0.07691035351646491)), (1117, np.float64(0.07691035351646491)), (1118, np.float64(0.030946200698854155)), (1119, np.float64(0.016907357627579958)), (1120, np.float64(0.007566647593470914)), (1121, np.float64(0.0)), (1122, np.float64(0.11269427425623467)), (1123, np.float64(0.07691035351646491)), (1124, np.float64(0.011444098474549327)), (1125, np.float64(0.11269427425623467)), (1126, np.float64(0.018618578173035274)), (1127, np.float64(0.030835985961382713)), (1128, np.float64(0.058639015671724554)), (1129, np.float64(0.04978060986659627)), (1130, np.float64(0.031048602966767792)), (1131, np.float64(0.04940897143388824)), (1132, np.float64(0.03131687214269202)), (1133, np.float64(0.07691035351646491)), (1134, np.float64(0.012608025629511894)), (1135, np.float64(0.005602377123043315)), (1136, np.float64(0.021390520120694815)), (1137, np.float64(0.013571778194007835)), (1138, np.float64(0.019172957455212226)), (1139, np.float64(0.11269427425623467)), (1140, np.float64(0.007670349715021542)), (1141, np.float64(0.0)), (1142, np.float64(0.008591870890613945)), (1143, np.float64(0.015898947987808883)), (1144, np.float64(0.013488187122883182)), (1145, np.float64(0.0)), (1146, np.float64(0.0)), (1147, np.float64(0.018464560781704824)), (1148, np.float64(0.0)), (1149, np.float64(0.09838007390724904)), (1150, np.float64(0.03647661006617498)), (1151, np.float64(0.03282702166388078)), (1152, np.float64(0.03615205660941803)), (1153, np.float64(0.0286569961203831)), (1154, np.float64(0.02765555688045939)), (1155, np.float64(0.0)), (1156, np.float64(0.0)), (1157, np.float64(0.04444259771020607)), (1158, np.float64(0.0045788108162352365)), (1159, np.float64(0.00857400934974981)), (1160, np.float64(0.035517318567770434)), (1161, np.float64(0.008158077707883628)), (1162, np.float64(0.06318732548823705)), (1163, np.float64(0.03648106557577517)), (1164, np.float64(0.018922609531963824)), (1165, np.float64(0.008904361873571931)), (1166, np.float64(0.07044188653880158)), (1167, np.float64(0.036883778344449836)), (1168, np.float64(0.004231454128387696)), (1169, np.float64(0.08429582474559985)), (1170, np.float64(0.03255061044115467)), (1171, np.float64(0.0)), (1172, np.float64(0.03895803509530468)), (1173, np.float64(0.06807698598495579)), (1174, np.float64(0.005743232587590749)), (1175, np.float64(0.01271259783215968)), (1176, np.float64(0.0)), (1177, np.float64(0.03540816466973437)), (1178, np.float64(0.11269427425623467)), (1179, np.float64(0.012603401789645443)), (1180, np.float64(0.030924004706726252)), (1181, np.float64(0.021351796173097223)), (1182, np.float64(0.11269427425623467)), (1183, np.float64(0.057822658264371274)), (1184, np.float64(0.11269427425623467)), (1185, np.float64(0.04660606596279354)), (1186, np.float64(0.08236987903421875)), (1187, np.float64(0.012964589414985399)), (1188, np.float64(0.03307825760010027)), (1189, np.float64(0.02711410165906924)), (1190, np.float64(0.004311672297034528)), (1191, np.float64(0.033645268226621734)), (1192, np.float64(0.03260106756262842)), (1193, np.float64(0.039550375138634096)), (1194, np.float64(0.06028296816704862)), (1195, np.float64(0.021980250423914712)), (1196, np.float64(0.0)), (1197, np.float64(0.0)), (1198, np.float64(0.004614374073055157)), (1199, np.float64(0.02192015200307583)), (1200, np.float64(0.1397493934530699)), (1201, np.float64(0.049340743161209635)), (1202, np.float64(0.020013421561129348)), (1203, np.float64(0.01173355186112729)), (1204, np.float64(0.007077903683902269)), (1205, np.float64(0.08113771034243972)), (1206, np.float64(0.0)), (1207, np.float64(0.009513207663273814)), (1208, np.float64(0.012220099861655745)), (1209, np.float64(0.012958493509456437)), (1210, np.float64(0.029194857994815398)), (1211, np.float64(0.08446835287238606)), (1212, np.float64(0.0)), (1213, np.float64(0.0)), (1214, np.float64(0.02987745210047244)), (1215, np.float64(0.008001285249457275)), (1216, np.float64(0.05474764903061601)), (1217, np.float64(0.036883778344449836)), (1218, np.float64(0.07691035351646491)), (1219, np.float64(0.03652433995534526)), (1220, np.float64(0.008156189909214438)), (1221, np.float64(0.0280510558275408)), (1222, np.float64(0.0)), (1223, np.float64(0.09351325962069412)), (1224, np.float64(0.022828175010597376)), (1225, np.float64(0.029349810686387527)), (1226, np.float64(0.07016820890832885)), (1227, np.float64(0.0)), (1228, np.float64(0.045729223608183274)), (1229, np.float64(0.04444259771020607)), (1230, np.float64(0.013163123084005985)), (1231, np.float64(0.04331747679227892)), (1232, np.float64(0.009344292880525216)), (1233, np.float64(0.0540326545899024)), (1234, np.float64(0.11269427425623467)), (1235, np.float64(0.04900945722496821)), (1236, np.float64(0.009242002254681109)), (1237, np.float64(0.011489471229712462)), (1238, np.float64(0.011950457246304553)), (1239, np.float64(0.0)), (1240, np.float64(0.017386902574694666)), (1241, np.float64(0.040344185633391934)), (1242, np.float64(0.07691035351646491)), (1243, np.float64(0.041608516147451556)), (1244, np.float64(0.004158761117736391)), (1245, np.float64(0.11146498742173332)), (1246, np.float64(0.01753434393175362)), (1247, np.float64(0.013777679560333628)), (1248, np.float64(0.0315250423113242)), (1249, np.float64(0.07691035351646491)), (1250, np.float64(0.11269427425623467)), (1251, np.float64(0.0331713467340135)), (1252, np.float64(0.013699971288671743)), (1253, np.float64(0.07442641909173206)), (1254, np.float64(0.04976920369045408)), (1255, np.float64(0.08236987903421875)), (1256, np.float64(0.07691035351646491)), (1257, np.float64(0.049692262519922925)), (1258, np.float64(0.03599263067872287)), (1259, np.float64(0.0453951030321994)), (1260, np.float64(0.0)), (1261, np.float64(0.013220681246546212)), (1262, np.float64(0.012721438358364054)), (1263, np.float64(0.009446982437873947)), (1264, np.float64(0.1064880495876249)), (1265, np.float64(0.0)), (1266, np.float64(0.11269427425623467)), (1267, np.float64(0.02633896332904603)), (1268, np.float64(0.008377448643542118)), (1269, np.float64(0.04605468706632326)), (1270, np.float64(0.0040341147011300526)), (1271, np.float64(0.0)), (1272, np.float64(0.02449364670064834)), (1273, np.float64(0.004896579546548723)), (1274, np.float64(0.023411873145830035)), (1275, np.float64(0.020140612441021492)), (1276, np.float64(0.07691035351646491)), (1277, np.float64(0.018418214388554507)), (1278, np.float64(0.021038232379535133)), (1279, np.float64(0.04094764923054678)), (1280, np.float64(0.022854701390585833)), (1281, np.float64(0.050323903479066234)), (1282, np.float64(0.014412680602473216)), (1283, np.float64(0.0)), (1284, np.float64(0.04444259771020607)), (1285, np.float64(0.03701098409438182)), (1286, np.float64(0.04660606596279354)), (1287, np.float64(0.03353129318783887)), (1288, np.float64(0.0)), (1289, np.float64(0.023392714436972772)), (1290, np.float64(0.0)), (1291, np.float64(0.0)), (1292, np.float64(0.0)), (1293, np.float64(0.0345728216431818)), (1294, np.float64(0.08113771034243972)), (1295, np.float64(0.04660606596279354)), (1296, np.float64(0.022856332690595338)), (1297, np.float64(0.005576296076205842)), (1298, np.float64(0.039366284194375586)), (1299, np.float64(0.08236987903421875)), (1300, np.float64(0.014646307901591408)), (1301, np.float64(0.006378268826422659)), (1302, np.float64(0.004518284806988561)), (1303, np.float64(0.018757407086716443)), (1304, np.float64(0.08626223895868673)), (1305, np.float64(0.0)), (1306, np.float64(0.07691035351646491)), (1307, np.float64(0.01406214145458851)), (1308, np.float64(0.026971327916174806)), (1309, np.float64(0.011626375055406741)), (1310, np.float64(0.027712175554810967)), (1311, np.float64(0.016095729565109424)), (1312, np.float64(0.03981875217318519)), (1313, np.float64(0.014083683053790146)), (1314, np.float64(0.0)), (1315, np.float64(0.011569156191510563)), (1316, np.float64(0.11387636204060347)), (1317, np.float64(0.005542009433504145)), (1318, np.float64(0.03540816466973437)), (1319, np.float64(0.025375193931407573)), (1320, np.float64(0.008959599180112009)), (1321, np.float64(0.0)), (1322, np.float64(0.0)), (1323, np.float64(0.02207662564347501)), (1324, np.float64(0.01497077004194181)), (1325, np.float64(0.0)), (1326, np.float64(0.01092433229105405)), (1327, np.float64(0.005376803980555072)), (1328, np.float64(0.07691035351646491)), (1329, np.float64(0.025934435009968716)), (1330, np.float64(0.040750866321401485)), (1331, np.float64(0.0)), (1332, np.float64(0.07691035351646491)), (1333, np.float64(0.04444259771020607)), (1334, np.float64(0.03191811698488017)), (1335, np.float64(0.04444259771020607)), (1336, np.float64(0.029390035279151183)), (1337, np.float64(0.02214536095272019)), (1338, np.float64(0.010290710884485698)), (1339, np.float64(0.07691035351646491)), (1340, np.float64(0.0)), (1341, np.float64(0.04662938202912523)), (1342, np.float64(0.028802542671660207)), (1343, np.float64(0.06054749823709328)), (1344, np.float64(0.025679439447181082)), (1345, np.float64(0.04234504810803002)), (1346, np.float64(0.008518164624550231)), (1347, np.float64(0.08393629577548946)), (1348, np.float64(0.006939704196600278)), (1349, np.float64(0.0)), (1350, np.float64(0.0)), (1351, np.float64(0.07691035351646491)), (1352, np.float64(0.05145602033865063)), (1353, np.float64(0.014842790966348933)), (1354, np.float64(0.00996152448657513)), (1355, np.float64(0.056215253517943556)), (1356, np.float64(0.019716285870086666)), (1357, np.float64(0.04444259771020607)), (1358, np.float64(0.07691035351646491)), (1359, np.float64(0.0)), (1360, np.float64(0.07691035351646491)), (1361, np.float64(0.07691035351646491)), (1362, np.float64(0.006568338381138465)), (1363, np.float64(0.0)), (1364, np.float64(0.025289241815113217)), (1365, np.float64(0.11269427425623467)), (1366, np.float64(0.0)), (1367, np.float64(0.07691035351646491)), (1368, np.float64(0.08236987903421875)), (1369, np.float64(0.012347314404428149)), (1370, np.float64(0.07691035351646491)), (1371, np.float64(0.037795149965003313)), (1372, np.float64(0.05901346855096559)), (1373, np.float64(0.0)), (1374, np.float64(0.08113771034243972)), (1375, np.float64(0.0)), (1376, np.float64(0.016650534909985568)), (1377, np.float64(0.03591789147904517)), (1378, np.float64(0.010163441685519456)), (1379, np.float64(0.016760748811547026)), (1380, np.float64(0.0061029943085293935)), (1381, np.float64(0.0)), (1382, np.float64(0.008805219857581436)), (1383, np.float64(0.040196028587904324)), (1384, np.float64(0.02182570148778646)), (1385, np.float64(0.022786552525585983)), (1386, np.float64(0.01835527294764465)), (1387, np.float64(0.05608925530411124)), (1388, np.float64(0.041608516147451556)), (1389, np.float64(0.032945096136395284)), (1390, np.float64(0.01972169093397449)), (1391, np.float64(0.10619654710001067)), (1392, np.float64(0.007811087639466494)), (1393, np.float64(0.07691035351646491)), (1394, np.float64(0.0)), (1395, np.float64(0.0)), (1396, np.float64(0.014209888129016076)), (1397, np.float64(0.022860472562264998)), (1398, np.float64(0.011818323018451735)), (1399, np.float64(0.04621893286320166))]\n"
          ]
        }
      ]
    },
    {
      "cell_type": "code",
      "source": [
        "len(similarity_score)"
      ],
      "metadata": {
        "colab": {
          "base_uri": "https://localhost:8080/"
        },
        "id": "YN_GWHlG6HSF",
        "outputId": "2fc98882-6412-41b6-c791-37043e4ca082"
      },
      "execution_count": null,
      "outputs": [
        {
          "output_type": "execute_result",
          "data": {
            "text/plain": [
              "1400"
            ]
          },
          "metadata": {},
          "execution_count": 30
        }
      ]
    },
    {
      "cell_type": "code",
      "source": [
        "#sorting the movies based on similarity score\n",
        "sorted_similar_movies=sorted(similarity_score,key=lambda x:x[1],reverse=True)\n",
        "print(sorted_similar_movies)"
      ],
      "metadata": {
        "colab": {
          "base_uri": "https://localhost:8080/"
        },
        "id": "e0EkTdudDw3G",
        "outputId": "e678d88e-87a7-4567-924c-b65c501592f7"
      },
      "execution_count": null,
      "outputs": [
        {
          "output_type": "stream",
          "name": "stdout",
          "text": [
            "[(0, np.float64(1.0000000000000002)), (701, np.float64(0.2045749076727073)), (916, np.float64(0.19931863434750124)), (283, np.float64(0.1979854231564656)), (741, np.float64(0.1947646623764026)), (430, np.float64(0.18308533622182116)), (13, np.float64(0.16142690811294846)), (31, np.float64(0.15281071585764722)), (595, np.float64(0.14732434063156305)), (1200, np.float64(0.1397493934530699)), (462, np.float64(0.13535015116466756)), (549, np.float64(0.13272135819626052)), (667, np.float64(0.1326148611024624)), (961, np.float64(0.1252588831773866)), (299, np.float64(0.12258521200400627)), (383, np.float64(0.11658186492916289)), (989, np.float64(0.11557097344145115)), (87, np.float64(0.11526277514063393)), (276, np.float64(0.11499396680730431)), (1316, np.float64(0.11387636204060347)), (638, np.float64(0.11269427425623467)), (675, np.float64(0.11269427425623467)), (685, np.float64(0.11269427425623467)), (922, np.float64(0.11269427425623467)), (1044, np.float64(0.11269427425623467)), (1072, np.float64(0.11269427425623467)), (1122, np.float64(0.11269427425623467)), (1125, np.float64(0.11269427425623467)), (1139, np.float64(0.11269427425623467)), (1178, np.float64(0.11269427425623467)), (1182, np.float64(0.11269427425623467)), (1184, np.float64(0.11269427425623467)), (1234, np.float64(0.11269427425623467)), (1250, np.float64(0.11269427425623467)), (1266, np.float64(0.11269427425623467)), (1365, np.float64(0.11269427425623467)), (1245, np.float64(0.11146498742173332)), (808, np.float64(0.11140423229572441)), (499, np.float64(0.11116895605299174)), (536, np.float64(0.10749626621086322)), (469, np.float64(0.10701684245858453)), (1264, np.float64(0.1064880495876249)), (1391, np.float64(0.10619654710001067)), (406, np.float64(0.10514319157422788)), (50, np.float64(0.10506602732680846)), (345, np.float64(0.10351525913632426)), (263, np.float64(0.10298425623476162)), (1070, np.float64(0.10249915761277735)), (951, np.float64(0.09891510416108576)), (358, np.float64(0.09860468473995239)), (156, np.float64(0.09850882493283288)), (1149, np.float64(0.09838007390724904)), (170, np.float64(0.09740064716665661)), (269, np.float64(0.09572660037133904)), (523, np.float64(0.09486539855827314)), (282, np.float64(0.0936864572608816)), (1000, np.float64(0.0935773329560726)), (1223, np.float64(0.09351325962069412)), (23, np.float64(0.09162967565432889)), (926, np.float64(0.09149269715673522)), (747, np.float64(0.09147302155898321)), (382, np.float64(0.08940533922232567)), (211, np.float64(0.08934202976421421)), (232, np.float64(0.08900536518473473)), (551, np.float64(0.08844291737571058)), (360, np.float64(0.08834641794488216)), (201, np.float64(0.08803230521275539)), (129, np.float64(0.08789201637583408)), (1101, np.float64(0.08762482971164427)), (256, np.float64(0.08736707368825618)), (1304, np.float64(0.08626223895868673)), (96, np.float64(0.08586283651472361)), (317, np.float64(0.08578447790208606)), (419, np.float64(0.08537820419173633)), (120, np.float64(0.08449409444589602)), (1211, np.float64(0.08446835287238606)), (1169, np.float64(0.08429582474559985)), (204, np.float64(0.08402533561333643)), (661, np.float64(0.08393629577548946)), (777, np.float64(0.08393629577548946)), (888, np.float64(0.08393629577548946)), (958, np.float64(0.08393629577548946)), (1014, np.float64(0.08393629577548946)), (1347, np.float64(0.08393629577548946)), (578, np.float64(0.08376384622651782)), (325, np.float64(0.08362181378680564)), (863, np.float64(0.08315274907232964)), (477, np.float64(0.08301789584596311)), (732, np.float64(0.08271611330713109)), (277, np.float64(0.08243601338764198)), (599, np.float64(0.08236987903421875)), (645, np.float64(0.08236987903421875)), (671, np.float64(0.08236987903421875)), (710, np.float64(0.08236987903421875)), (758, np.float64(0.08236987903421875)), (1008, np.float64(0.08236987903421875)), (1066, np.float64(0.08236987903421875)), (1081, np.float64(0.08236987903421875)), (1186, np.float64(0.08236987903421875)), (1255, np.float64(0.08236987903421875)), (1299, np.float64(0.08236987903421875)), (1368, np.float64(0.08236987903421875)), (70, np.float64(0.08233004083997691)), (470, np.float64(0.0822581515342872)), (384, np.float64(0.0816397245261258)), (520, np.float64(0.08135853808830842)), (436, np.float64(0.08113771034243972)), (904, np.float64(0.08113771034243972)), (1035, np.float64(0.08113771034243972)), (1205, np.float64(0.08113771034243972)), (1294, np.float64(0.08113771034243972)), (1374, np.float64(0.08113771034243972)), (573, np.float64(0.07952353724548687)), (1105, np.float64(0.07858067483323411)), (450, np.float64(0.0783475533547408)), (504, np.float64(0.0779910232683156)), (782, np.float64(0.07772220827371205)), (483, np.float64(0.07739228584391679)), (348, np.float64(0.07691035351646491)), (669, np.float64(0.07691035351646491)), (708, np.float64(0.07691035351646491)), (811, np.float64(0.07691035351646491)), (876, np.float64(0.07691035351646491)), (917, np.float64(0.07691035351646491)), (919, np.float64(0.07691035351646491)), (991, np.float64(0.07691035351646491)), (996, np.float64(0.07691035351646491)), (1013, np.float64(0.07691035351646491)), (1019, np.float64(0.07691035351646491)), (1065, np.float64(0.07691035351646491)), (1091, np.float64(0.07691035351646491)), (1096, np.float64(0.07691035351646491)), (1107, np.float64(0.07691035351646491)), (1111, np.float64(0.07691035351646491)), (1116, np.float64(0.07691035351646491)), (1117, np.float64(0.07691035351646491)), (1123, np.float64(0.07691035351646491)), (1133, np.float64(0.07691035351646491)), (1218, np.float64(0.07691035351646491)), (1242, np.float64(0.07691035351646491)), (1249, np.float64(0.07691035351646491)), (1256, np.float64(0.07691035351646491)), (1276, np.float64(0.07691035351646491)), (1306, np.float64(0.07691035351646491)), (1328, np.float64(0.07691035351646491)), (1332, np.float64(0.07691035351646491)), (1339, np.float64(0.07691035351646491)), (1351, np.float64(0.07691035351646491)), (1358, np.float64(0.07691035351646491)), (1360, np.float64(0.07691035351646491)), (1361, np.float64(0.07691035351646491)), (1367, np.float64(0.07691035351646491)), (1370, np.float64(0.07691035351646491)), (1393, np.float64(0.07691035351646491)), (511, np.float64(0.07679491771851256)), (57, np.float64(0.07644354523894381)), (620, np.float64(0.07638351441025737)), (47, np.float64(0.07580934074991687)), (1082, np.float64(0.0757373290101467)), (385, np.float64(0.07520124210012867)), (327, np.float64(0.07476169321752928)), (1253, np.float64(0.07442641909173206)), (861, np.float64(0.07425901595559425)), (1059, np.float64(0.07404609313644588)), (694, np.float64(0.07373914148260151)), (288, np.float64(0.07320426525285956)), (343, np.float64(0.07267185905992758)), (857, np.float64(0.07246832642054749)), (714, np.float64(0.0722353225410282)), (127, np.float64(0.07151478446412536)), (128, np.float64(0.07126323075835489)), (1017, np.float64(0.07124078897222719)), (64, np.float64(0.07106253199108531)), (37, np.float64(0.07090777048697874)), (12, np.float64(0.07086297098304602)), (365, np.float64(0.07059072783420652)), (1166, np.float64(0.07044188653880158)), (111, np.float64(0.07018314580760789)), (1226, np.float64(0.07016820890832885)), (636, np.float64(0.07014156277076983)), (787, np.float64(0.07001614591584666)), (151, np.float64(0.06995139724449853)), (548, np.float64(0.06987485920963363)), (887, np.float64(0.06952078548432677)), (1173, np.float64(0.06807698598495579)), (820, np.float64(0.06801573262697723)), (773, np.float64(0.06786724159052049)), (719, np.float64(0.06727624566593517)), (503, np.float64(0.06715042529397271)), (905, np.float64(0.06711064227531152)), (541, np.float64(0.06682279474983666)), (194, np.float64(0.06657177325106944)), (43, np.float64(0.0665178482900373)), (98, np.float64(0.06610396601451432)), (621, np.float64(0.06594054373345715)), (364, np.float64(0.06568759446254231)), (465, np.float64(0.06517695385091465)), (896, np.float64(0.06491696920757294)), (893, np.float64(0.06461100296176484)), (30, np.float64(0.0645558196779915)), (716, np.float64(0.06448707006375164)), (362, np.float64(0.06440714300826436)), (809, np.float64(0.06406083275322469)), (496, np.float64(0.0639942203375321)), (657, np.float64(0.06393012035110177)), (402, np.float64(0.06390447972594708)), (807, np.float64(0.0638616780528928)), (184, np.float64(0.06385289062478072)), (125, np.float64(0.06374141987909661)), (517, np.float64(0.06355474369404915)), (1001, np.float64(0.06325287303498252)), (1162, np.float64(0.06318732548823705)), (131, np.float64(0.06279700978333244)), (796, np.float64(0.06247882302708457)), (739, np.float64(0.06232506143648867)), (409, np.float64(0.062147405874175485)), (816, np.float64(0.062120435170593416)), (444, np.float64(0.06208400958856841)), (571, np.float64(0.062060616024832135)), (560, np.float64(0.06187207357866389)), (404, np.float64(0.061870810025791645)), (610, np.float64(0.0615855707485614)), (829, np.float64(0.06146896363969665)), (186, np.float64(0.061283248991638783)), (425, np.float64(0.06074994442670592)), (1030, np.float64(0.060565365815476946)), (1343, np.float64(0.06054749823709328)), (607, np.float64(0.06053736961680883)), (850, np.float64(0.06042820158072679)), (1194, np.float64(0.06028296816704862)), (1023, np.float64(0.06013306211375034)), (302, np.float64(0.05998138080484292)), (744, np.float64(0.0597552837764037)), (270, np.float64(0.05969579330143143)), (774, np.float64(0.05951779583191808)), (236, np.float64(0.059398939076521204)), (147, np.float64(0.05926284374839422)), (392, np.float64(0.05903987848796524)), (1372, np.float64(0.05901346855096559)), (901, np.float64(0.05878678626355541)), (870, np.float64(0.058779413098929284)), (1039, np.float64(0.0587385824586859)), (1128, np.float64(0.058639015671724554)), (355, np.float64(0.05857460342873606)), (437, np.float64(0.057975904897825184)), (135, np.float64(0.057942172375997886)), (986, np.float64(0.05785715292350991)), (1183, np.float64(0.057822658264371274)), (692, np.float64(0.05776812927028542)), (32, np.float64(0.057601764256709466)), (393, np.float64(0.057598826450468044)), (97, np.float64(0.05730832934104259)), (104, np.float64(0.057264955078477495)), (144, np.float64(0.056627771528210746)), (718, np.float64(0.05641759255991119)), (847, np.float64(0.05628603679908949)), (1075, np.float64(0.05627427308939449)), (703, np.float64(0.056250128759652955)), (1355, np.float64(0.056215253517943556)), (533, np.float64(0.05609812614785776)), (1387, np.float64(0.05608925530411124)), (786, np.float64(0.056008522023093796)), (158, np.float64(0.05598208396518544)), (542, np.float64(0.05597436595557798)), (920, np.float64(0.055927788241454605)), (666, np.float64(0.0558548463539774)), (943, np.float64(0.05566469786489097)), (185, np.float64(0.05565453276447191)), (780, np.float64(0.05559881125220466)), (287, np.float64(0.05553655352984037)), (545, np.float64(0.055484540736756446)), (579, np.float64(0.055392729080509046)), (864, np.float64(0.05535371670826255)), (999, np.float64(0.05529784779988682)), (755, np.float64(0.055199165793298366)), (564, np.float64(0.055089265514571696)), (789, np.float64(0.054768939983663105)), (1216, np.float64(0.05474764903061601)), (341, np.float64(0.054713815153839676)), (89, np.float64(0.054668538698849495)), (21, np.float64(0.05461806003334637)), (344, np.float64(0.05455852082636019)), (842, np.float64(0.054191907371657605)), (632, np.float64(0.05415567325512341)), (378, np.float64(0.05414419599118778)), (788, np.float64(0.05408832637903118)), (784, np.float64(0.054079829199666626)), (1233, np.float64(0.0540326545899024)), (933, np.float64(0.053893115823078125)), (737, np.float64(0.05355724975753452)), (389, np.float64(0.053533919815266465)), (447, np.float64(0.053505441442870116)), (550, np.float64(0.053440744849885764)), (956, np.float64(0.05341028058334961)), (485, np.float64(0.053381656373480954)), (965, np.float64(0.053373013454802526)), (527, np.float64(0.05324943888917781)), (207, np.float64(0.053228284312870744)), (895, np.float64(0.05265729452401378)), (17, np.float64(0.05242950200645333)), (217, np.float64(0.05234019109151975)), (432, np.float64(0.052115184096449566)), (767, np.float64(0.0519524626342598)), (1104, np.float64(0.05193113621238073)), (597, np.float64(0.051621674159885625)), (1352, np.float64(0.05145602033865063)), (290, np.float64(0.05099720707773858)), (132, np.float64(0.05088215595011855)), (604, np.float64(0.050813073853335416)), (749, np.float64(0.05070261050590446)), (877, np.float64(0.050553271763276175)), (688, np.float64(0.050465861704756386)), (213, np.float64(0.05043690772349187)), (518, np.float64(0.050390465389796815)), (1281, np.float64(0.050323903479066234)), (266, np.float64(0.04994890706805091)), (841, np.float64(0.049938814515342385)), (1129, np.float64(0.04978060986659627)), (1254, np.float64(0.04976920369045408)), (1257, np.float64(0.049692262519922925)), (1050, np.float64(0.04967204586171688)), (1007, np.float64(0.04954915942235285)), (715, np.float64(0.049446816386346404)), (804, np.float64(0.04942040754839518)), (1131, np.float64(0.04940897143388824)), (1201, np.float64(0.049340743161209635)), (246, np.float64(0.049326061560865955)), (333, np.float64(0.049286594136814216)), (1235, np.float64(0.04900945722496821)), (723, np.float64(0.04891712649847072)), (566, np.float64(0.04889228326310485)), (954, np.float64(0.04880860838074756)), (7, np.float64(0.048683441224766894)), (458, np.float64(0.04866261658355185)), (1033, np.float64(0.04865414993855224)), (94, np.float64(0.04857104577516111)), (454, np.float64(0.0484265538181779)), (192, np.float64(0.0482180876376756)), (250, np.float64(0.04811837656023517)), (222, np.float64(0.04803763397452935)), (251, np.float64(0.047944125081971524)), (67, np.float64(0.04780935787469674)), (790, np.float64(0.0474356667472759)), (612, np.float64(0.04721005232212549)), (994, np.float64(0.04700096805578079)), (942, np.float64(0.04663521555957999)), (1341, np.float64(0.04662938202912523)), (474, np.float64(0.04661073192321919)), (776, np.float64(0.04660606596279354)), (899, np.float64(0.04660606596279354)), (1028, np.float64(0.04660606596279354)), (1029, np.float64(0.04660606596279354)), (1185, np.float64(0.04660606596279354)), (1286, np.float64(0.04660606596279354)), (1295, np.float64(0.04660606596279354)), (923, np.float64(0.04660197242340912)), (55, np.float64(0.04656700126409221)), (559, np.float64(0.04653795643480871)), (195, np.float64(0.04643619565028811)), (38, np.float64(0.046376377532109075)), (627, np.float64(0.04632880790176167)), (654, np.float64(0.04623450563418136)), (1399, np.float64(0.04621893286320166)), (1269, np.float64(0.04605468706632326)), (85, np.float64(0.045987886791060806)), (1102, np.float64(0.04589833118353961)), (1228, np.float64(0.045729223608183274)), (401, np.float64(0.04567631237952306)), (1038, np.float64(0.045496217951892445)), (1259, np.float64(0.0453951030321994)), (498, np.float64(0.04532328834562766)), (1025, np.float64(0.04499758162300396)), (955, np.float64(0.04492467263651314)), (295, np.float64(0.04491238746256149)), (338, np.float64(0.044879930325642005)), (586, np.float64(0.04467541026161469)), (83, np.float64(0.0446105740866302)), (882, np.float64(0.04456364951020424)), (301, np.float64(0.0445346798517355)), (964, np.float64(0.04450938813601389)), (639, np.float64(0.0445019879069651)), (605, np.float64(0.04444259771020607)), (813, np.float64(0.04444259771020607)), (948, np.float64(0.04444259771020607)), (1157, np.float64(0.04444259771020607)), (1229, np.float64(0.04444259771020607)), (1284, np.float64(0.04444259771020607)), (1333, np.float64(0.04444259771020607)), (1335, np.float64(0.04444259771020607)), (1357, np.float64(0.04444259771020607)), (336, np.float64(0.04438716460243855)), (130, np.float64(0.044327011034055924)), (748, np.float64(0.0442642156628616)), (643, np.float64(0.04421836813267946)), (453, np.float64(0.04406892214717687)), (608, np.float64(0.04406149756083683)), (886, np.float64(0.044011291566155214)), (381, np.float64(0.04391984814819684)), (907, np.float64(0.043716764449999244)), (363, np.float64(0.04359568403744192)), (707, np.float64(0.04356298716042744)), (44, np.float64(0.0435012723326637)), (491, np.float64(0.04334918090672643)), (648, np.float64(0.04332352252499864)), (1231, np.float64(0.04331747679227892)), (584, np.float64(0.04319933897051696)), (321, np.float64(0.04312196496267242)), (93, np.float64(0.04306289287090817)), (862, np.float64(0.0430426365374371)), (6, np.float64(0.04302601549909576)), (815, np.float64(0.04268655979870586)), (140, np.float64(0.04257176409107099)), (428, np.float64(0.042534555436113425)), (973, np.float64(0.04252650232183957)), (713, np.float64(0.04249404979516319)), (979, np.float64(0.04236865188982214)), (1345, np.float64(0.04234504810803002)), (254, np.float64(0.04228756594976718)), (235, np.float64(0.042257231171424194)), (219, np.float64(0.0421520124495396)), (935, np.float64(0.04191095215641023)), (670, np.float64(0.041733810418298975)), (1243, np.float64(0.041608516147451556)), (1388, np.float64(0.041608516147451556)), (665, np.float64(0.04155839934906433)), (488, np.float64(0.04149866214059998)), (662, np.float64(0.04149628021566352)), (353, np.float64(0.04126987478176976)), (74, np.float64(0.04112152764747795)), (558, np.float64(0.04096913924853237)), (298, np.float64(0.04095469408903025)), (1279, np.float64(0.04094764923054678)), (218, np.float64(0.04082151351378219)), (1330, np.float64(0.040750866321401485)), (152, np.float64(0.040433166998042495)), (27, np.float64(0.04040869026381354)), (1241, np.float64(0.040344185633391934)), (1383, np.float64(0.040196028587904324)), (590, np.float64(0.040092360869209094)), (319, np.float64(0.03999243328496653)), (51, np.float64(0.0399559926229936)), (552, np.float64(0.039853678561933156)), (1312, np.float64(0.03981875217318519)), (640, np.float64(0.03980814567079546)), (492, np.float64(0.03974046595134781)), (180, np.float64(0.039587018785287933)), (1193, np.float64(0.039550375138634096)), (322, np.float64(0.03953370885868166)), (1298, np.float64(0.039366284194375586)), (822, np.float64(0.03923678900970111)), (717, np.float64(0.03911354078251784)), (706, np.float64(0.038972700528116605)), (1172, np.float64(0.03895803509530468)), (658, np.float64(0.0388796801873815)), (866, np.float64(0.038825557715310474)), (1046, np.float64(0.038701183619284464)), (202, np.float64(0.03851729103093729)), (48, np.float64(0.038495850653484404)), (554, np.float64(0.03826426423131224)), (902, np.float64(0.038041989899500375)), (746, np.float64(0.038013224680392664)), (123, np.float64(0.03798569763691796)), (1042, np.float64(0.0379522884639056)), (305, np.float64(0.03789921097333151)), (998, np.float64(0.03785384888363544)), (1371, np.float64(0.037795149965003313)), (700, np.float64(0.03776922132292294)), (467, np.float64(0.03775669754147152)), (82, np.float64(0.037597148433743795)), (446, np.float64(0.037586593081717676)), (686, np.float64(0.037463970387855705)), (606, np.float64(0.03733997950075607)), (765, np.float64(0.037136596824221164)), (275, np.float64(0.03710466999728254)), (795, np.float64(0.037039078690777855)), (1285, np.float64(0.03701098409438182)), (659, np.float64(0.03698192960053871)), (11, np.float64(0.03698085846392866)), (637, np.float64(0.036973574332854905)), (745, np.float64(0.03692203638541128)), (182, np.float64(0.03689314102275418)), (563, np.float64(0.036883778344449836)), (987, np.float64(0.036883778344449836)), (988, np.float64(0.036883778344449836)), (1099, np.float64(0.036883778344449836)), (1167, np.float64(0.036883778344449836)), (1217, np.float64(0.036883778344449836)), (475, np.float64(0.03683398130870647)), (271, np.float64(0.036799218212714334)), (340, np.float64(0.03673469740481301)), (1219, np.float64(0.03652433995534526)), (1163, np.float64(0.03648106557577517)), (1150, np.float64(0.03647661006617498)), (730, np.float64(0.03645915972103406)), (22, np.float64(0.036372770840818226)), (1031, np.float64(0.03634798530447992)), (1086, np.float64(0.0363171620852651)), (155, np.float64(0.03630113456804569)), (209, np.float64(0.0362449829304176)), (1152, np.float64(0.03615205660941803)), (705, np.float64(0.03602840465230653)), (126, np.float64(0.03601811244851702)), (245, np.float64(0.03600884420943706)), (3, np.float64(0.03600817542313371)), (108, np.float64(0.035999187211850955)), (1258, np.float64(0.03599263067872287)), (673, np.float64(0.03593594406426646)), (1377, np.float64(0.03591789147904517)), (726, np.float64(0.03590421268795338)), (1097, np.float64(0.03589585282182216)), (514, np.float64(0.035787056543172706)), (178, np.float64(0.03575956593724987)), (307, np.float64(0.03571306149479936)), (61, np.float64(0.03561234413688726)), (279, np.float64(0.03557741506897927)), (1113, np.float64(0.03551894921454752)), (1160, np.float64(0.035517318567770434)), (792, np.float64(0.03540816466973437)), (995, np.float64(0.03540816466973437)), (1177, np.float64(0.03540816466973437)), (1318, np.float64(0.03540816466973437)), (937, np.float64(0.035406259408291146)), (623, np.float64(0.03537650912503386)), (585, np.float64(0.03530952114143256)), (91, np.float64(0.03515985152370907)), (515, np.float64(0.035137493895491215)), (898, np.float64(0.03513151724032031)), (1005, np.float64(0.035092243565975026)), (463, np.float64(0.035068034879978095)), (33, np.float64(0.035051931376450345)), (976, np.float64(0.03501956582815318)), (433, np.float64(0.03500653019630582)), (728, np.float64(0.03475712193935934)), (834, np.float64(0.03473844596648036)), (734, np.float64(0.034631375019260106)), (115, np.float64(0.03457874515673247)), (1293, np.float64(0.0345728216431818)), (940, np.float64(0.03452334375724822)), (513, np.float64(0.03449520035301375)), (18, np.float64(0.03448340389744975)), (413, np.float64(0.03419059862531769)), (136, np.float64(0.034156210062829415)), (873, np.float64(0.034075144826195725)), (828, np.float64(0.03404264228593308)), (416, np.float64(0.03398255484066261)), (220, np.float64(0.033954915028520265)), (313, np.float64(0.0339460274304938)), (206, np.float64(0.03388899675844004)), (892, np.float64(0.03377850738384023)), (191, np.float64(0.03370645612412137)), (1191, np.float64(0.033645268226621734)), (210, np.float64(0.03361988319390415)), (851, np.float64(0.033606867908486354)), (941, np.float64(0.03360049259644299)), (1287, np.float64(0.03353129318783887)), (493, np.float64(0.03346726700258368)), (39, np.float64(0.03341230741749704)), (992, np.float64(0.03335899969257362)), (1251, np.float64(0.0331713467340135)), (1188, np.float64(0.03307825760010027)), (412, np.float64(0.033021173633483156)), (642, np.float64(0.03295183595492757)), (1389, np.float64(0.032945096136395284)), (880, np.float64(0.0329436049924193)), (1002, np.float64(0.03292104925471324)), (452, np.float64(0.032920636923121915)), (400, np.float64(0.03283757815172473)), (1151, np.float64(0.03282702166388078)), (556, np.float64(0.032738290136952425)), (1192, np.float64(0.03260106756262842)), (142, np.float64(0.03256015381951752)), (1170, np.float64(0.03255061044115467)), (42, np.float64(0.03238451131094947)), (439, np.float64(0.03232667707778068)), (233, np.float64(0.03231643326901734)), (107, np.float64(0.03225434921740859)), (119, np.float64(0.03224150387787768)), (448, np.float64(0.03217280015413218)), (296, np.float64(0.032082043165987534)), (1334, np.float64(0.03191811698488017)), (601, np.float64(0.03189500419088306)), (443, np.float64(0.03158046246958705)), (25, np.float64(0.03156893981207746)), (1248, np.float64(0.0315250423113242)), (323, np.float64(0.031487525275639985)), (838, np.float64(0.03143647222487129)), (843, np.float64(0.031427132908868775)), (1132, np.float64(0.03131687214269202)), (190, np.float64(0.03129061777113366)), (754, np.float64(0.031213542040052385)), (978, np.float64(0.031184305635866504)), (228, np.float64(0.031184186096303156)), (29, np.float64(0.03112874889660848)), (993, np.float64(0.031100738743243574)), (845, np.float64(0.031055003588196538)), (1130, np.float64(0.031048602966767792)), (224, np.float64(0.03103951704919184)), (398, np.float64(0.03100643891331053)), (80, np.float64(0.030985739177927324)), (702, np.float64(0.030947239676901744)), (1118, np.float64(0.030946200698854155)), (1180, np.float64(0.030924004706726252)), (1127, np.float64(0.030835985961382713)), (479, np.float64(0.030805554366152045)), (664, np.float64(0.030771449476644095)), (372, np.float64(0.030731018049971134)), (78, np.float64(0.030686503102029986)), (678, np.float64(0.030606740603440045)), (538, np.float64(0.03055026218698761)), (143, np.float64(0.030531418756345338)), (169, np.float64(0.03047876196737139)), (783, np.float64(0.030412392918667035)), (424, np.float64(0.030399827860193046)), (525, np.float64(0.03038792475571196)), (329, np.float64(0.030370464891291242)), (740, np.float64(0.03029238913888678)), (768, np.float64(0.03018287903483831)), (65, np.float64(0.030158898508179974)), (647, np.float64(0.030105631662362554)), (619, np.float64(0.030074198070844674)), (727, np.float64(0.030053837733979127)), (410, np.float64(0.029989769222492992)), (95, np.float64(0.029972761003275544)), (377, np.float64(0.02990743239044073)), (1214, np.float64(0.02987745210047244)), (63, np.float64(0.02975737578048836)), (199, np.float64(0.029728740396824372)), (160, np.float64(0.02963753334398997)), (118, np.float64(0.029525799087931008)), (1004, np.float64(0.029446411417642832)), (1336, np.float64(0.029390035279151183)), (49, np.float64(0.029378914182384308)), (1225, np.float64(0.029349810686387527)), (946, np.float64(0.029270434054699423)), (165, np.float64(0.02923425007567643)), (1210, np.float64(0.029194857994815398)), (367, np.float64(0.029180384712558516)), (141, np.float64(0.02910751037160245)), (652, np.float64(0.029089040922985178)), (683, np.float64(0.029080546371033432)), (315, np.float64(0.02902675167913625)), (259, np.float64(0.029004121929746593)), (1094, np.float64(0.028929672357925745)), (635, np.float64(0.028834060392149717)), (1342, np.float64(0.028802542671660207)), (451, np.float64(0.028790905264520765)), (449, np.float64(0.028787862835281536)), (1010, np.float64(0.028787862610801428)), (426, np.float64(0.028756374280261544)), (1153, np.float64(0.0286569961203831)), (459, np.float64(0.02863799211589317)), (370, np.float64(0.028595998104055192)), (175, np.float64(0.02853532954128951)), (26, np.float64(0.02843151055985213)), (197, np.float64(0.028412522175512545)), (328, np.float64(0.028401615731062948)), (539, np.float64(0.02839810522649726)), (420, np.float64(0.028092438995016025)), (1221, np.float64(0.0280510558275408)), (239, np.float64(0.027982816781076423)), (257, np.float64(0.027939012769693204)), (598, np.float64(0.027918765008439574)), (1078, np.float64(0.02780532112727928)), (918, np.float64(0.027783589449061473)), (1310, np.float64(0.027712175554810967)), (729, np.float64(0.02767526809922411)), (34, np.float64(0.027660777836201203)), (1154, np.float64(0.02765555688045939)), (1052, np.float64(0.02762226539137158)), (798, np.float64(0.027574263677289698)), (229, np.float64(0.02752534486878886)), (77, np.float64(0.027508608790329927)), (223, np.float64(0.027413886659267087)), (455, np.float64(0.027395250737963044)), (346, np.float64(0.027214127308538102)), (849, np.float64(0.027149059832144037)), (1189, np.float64(0.02711410165906924)), (802, np.float64(0.02711088178641201)), (399, np.float64(0.02698974484729312)), (1308, np.float64(0.026971327916174806)), (945, np.float64(0.026918559005713993)), (969, np.float64(0.026866485341205316)), (522, np.float64(0.02663789411758896)), (967, np.float64(0.0266129163532626)), (720, np.float64(0.026557757049823834)), (830, np.float64(0.026525346100371914)), (837, np.float64(0.026411795609163992)), (480, np.float64(0.026390363743424523)), (1267, np.float64(0.02633896332904603)), (751, np.float64(0.02624779647881814)), (88, np.float64(0.02624476842288605)), (423, np.float64(0.026194950674421454)), (591, np.float64(0.026183294102668085)), (1089, np.float64(0.026165266358254346)), (897, np.float64(0.02614675141838553)), (312, np.float64(0.02614347210873362)), (161, np.float64(0.026135496582615558)), (963, np.float64(0.026027805344800828)), (712, np.float64(0.026018741879209308)), (264, np.float64(0.025947723347081522)), (337, np.float64(0.02594427867774861)), (1329, np.float64(0.025934435009968716)), (166, np.float64(0.025811709603792088)), (846, np.float64(0.02573833231314024)), (557, np.float64(0.025728699027225025)), (73, np.float64(0.02571413529185345)), (1344, np.float64(0.025679439447181082)), (526, np.float64(0.025661206384180152)), (914, np.float64(0.025626116579717025)), (157, np.float64(0.025547638526253573)), (1056, np.float64(0.025462469194267583)), (1041, np.float64(0.025448500722381917)), (1319, np.float64(0.025375193931407573)), (779, np.float64(0.02533894114410451)), (1364, np.float64(0.025289241815113217)), (438, np.float64(0.02526013367595003)), (100, np.float64(0.025246480212787237)), (953, np.float64(0.02520632013323664)), (101, np.float64(0.025126255521175665)), (198, np.float64(0.025116791103190546)), (1053, np.float64(0.0249233950370724)), (300, np.float64(0.02486133404082655)), (609, np.float64(0.024811025235241077)), (1058, np.float64(0.02477886951398664)), (258, np.float64(0.024753588794078893)), (752, np.float64(0.024737205036037622)), (137, np.float64(0.02472059013227549)), (588, np.float64(0.02463146830665196)), (326, np.float64(0.024631316449495917)), (293, np.float64(0.024615777091679572)), (86, np.float64(0.02455176017439746)), (280, np.float64(0.02455030993376666)), (805, np.float64(0.024545647389177694)), (656, np.float64(0.024522592749997317)), (856, np.float64(0.024522469766627007)), (1272, np.float64(0.02449364670064834)), (641, np.float64(0.024458020800545502)), (778, np.float64(0.024447633583192803)), (859, np.float64(0.02443999265834048)), (445, np.float64(0.024363433318041465)), (690, np.float64(0.0242911157738466)), (253, np.float64(0.024280224351052183)), (241, np.float64(0.024223975567628165)), (286, np.float64(0.024218966432317784)), (534, np.float64(0.024185069512291123)), (379, np.float64(0.0241044718197218)), (387, np.float64(0.024071400460499444)), (106, np.float64(0.024068451693295228)), (543, np.float64(0.024059146175091882)), (1026, np.float64(0.02401037872525824)), (320, np.float64(0.023990085820721527)), (244, np.float64(0.023978916981724094)), (403, np.float64(0.023906393516153264)), (334, np.float64(0.02379875228600637)), (581, np.float64(0.023787858394111294)), (489, np.float64(0.023676359750637775)), (40, np.float64(0.02366056311552183)), (252, np.float64(0.023646575664107303)), (781, np.float64(0.023578312678699337)), (352, np.float64(0.023543137204967424)), (502, np.float64(0.023483843171918962)), (1274, np.float64(0.023411873145830035)), (1289, np.float64(0.023392714436972772)), (806, np.float64(0.023390758155813967)), (1043, np.float64(0.023390758155813967)), (959, np.float64(0.02332150392463674)), (1083, np.float64(0.023311447070231955)), (441, np.float64(0.023295794305956234)), (1088, np.float64(0.023249330488514477)), (1, np.float64(0.023244045031615514)), (936, np.float64(0.023240054658435844)), (52, np.float64(0.023233287861794516)), (582, np.float64(0.023223014186558366)), (785, np.float64(0.023154363841478853)), (374, np.float64(0.02314512198314121)), (990, np.float64(0.02312734857502926)), (376, np.float64(0.023053433183461876)), (427, np.float64(0.023052374453528722)), (176, np.float64(0.02294089587677818)), (414, np.float64(0.022870054633323058)), (1397, np.float64(0.022860472562264998)), (1296, np.float64(0.022856332690595338)), (1280, np.float64(0.022854701390585833)), (894, np.float64(0.022851827080116627)), (1224, np.float64(0.022828175010597376)), (351, np.float64(0.02281062716158791)), (1385, np.float64(0.022786552525585983)), (60, np.float64(0.022777141328948675)), (1079, np.float64(0.022742114508301603)), (114, np.float64(0.02274094913546891)), (576, np.float64(0.022733419344950594)), (1036, np.float64(0.02268977635864646)), (537, np.float64(0.02260305962667817)), (216, np.float64(0.022436119926839637)), (390, np.float64(0.022368858742970822)), (471, np.float64(0.02229636249929135)), (618, np.float64(0.02229311594949995)), (587, np.float64(0.02225034454667335)), (962, np.float64(0.022214899092471017)), (1337, np.float64(0.02214536095272019)), (724, np.float64(0.02214167877978859)), (1323, np.float64(0.02207662564347501)), (593, np.float64(0.02203776893678513)), (628, np.float64(0.02202703370448876)), (380, np.float64(0.022021031449900846)), (1195, np.float64(0.021980250423914712)), (1199, np.float64(0.02192015200307583)), (62, np.float64(0.021908895840684693)), (68, np.float64(0.02190646762880031)), (799, np.float64(0.021887266327091065)), (1109, np.float64(0.0218451355546761)), (1384, np.float64(0.02182570148778646)), (4, np.float64(0.021803643389756537)), (565, np.float64(0.0217813147646346)), (69, np.float64(0.021759577230671127)), (634, np.float64(0.021670449957836645)), (903, np.float64(0.021646309226911478)), (589, np.float64(0.021605259430301598)), (310, np.float64(0.021576090577333132)), (516, np.float64(0.021574267467268017)), (249, np.float64(0.021393469860890937)), (1136, np.float64(0.021390520120694815)), (1181, np.float64(0.021351796173097223)), (924, np.float64(0.021327787187610987)), (193, np.float64(0.021307967326918958)), (698, np.float64(0.021128810095107895)), (1020, np.float64(0.02108943801120813)), (102, np.float64(0.02105959844556732)), (368, np.float64(0.02104951870490636)), (1278, np.float64(0.021038232379535133)), (1051, np.float64(0.020976428518653868)), (794, np.float64(0.02096825237351521)), (615, np.float64(0.0209654477903946)), (45, np.float64(0.02085348201769024)), (731, np.float64(0.020834723414409586)), (456, np.float64(0.020829795580794584)), (189, np.float64(0.020789275482989762)), (970, np.float64(0.020735821786451065)), (24, np.float64(0.020700896581761472)), (572, np.float64(0.020694785348028)), (836, np.float64(0.020687715829503708)), (332, np.float64(0.02065916004534641)), (331, np.float64(0.020608558823882434)), (350, np.float64(0.020545455093331083)), (311, np.float64(0.02053955149179791)), (912, np.float64(0.02053643926444177)), (506, np.float64(0.020529719075847913)), (507, np.float64(0.0204768693662715)), (947, np.float64(0.020468151477267063)), (171, np.float64(0.020451451852249863)), (631, np.float64(0.020171376244938116)), (71, np.float64(0.02014123842615066)), (1275, np.float64(0.020140612441021492)), (855, np.float64(0.020132080701907838)), (1202, np.float64(0.020013421561129348)), (711, np.float64(0.020008147103556584)), (359, np.float64(0.019912302628876513)), (791, np.float64(0.019853344822420328)), (215, np.float64(0.019842086291763116)), (858, np.float64(0.019792145762738293)), (1390, np.float64(0.01972169093397449)), (1356, np.float64(0.019716285870086666)), (1047, np.float64(0.01970421551785205)), (629, np.float64(0.0196931033670344)), (15, np.float64(0.019633101048071387)), (819, np.float64(0.019590331261051558)), (547, np.float64(0.019515961872136958)), (422, np.float64(0.0194830368598855)), (407, np.float64(0.019360048355606646)), (840, np.float64(0.019348059889956432)), (509, np.float64(0.01930076731860699)), (854, np.float64(0.019297320309009144)), (594, np.float64(0.01926299816838191)), (9, np.float64(0.01925926283186412)), (630, np.float64(0.019230020108974344)), (1138, np.float64(0.019172957455212226)), (1015, np.float64(0.019117331120765788)), (168, np.float64(0.019113706046781448)), (113, np.float64(0.018923615735596883)), (1164, np.float64(0.018922609531963824)), (75, np.float64(0.018917987676253634)), (650, np.float64(0.0188559377588821)), (531, np.float64(0.018843530263718863)), (983, np.float64(0.01876388558758378)), (753, np.float64(0.018763229702361627)), (722, np.float64(0.01876027602851768)), (1303, np.float64(0.018757407086716443)), (848, np.float64(0.01873707616574285)), (1049, np.float64(0.018731254262067783)), (1009, np.float64(0.01863403251295223)), (1126, np.float64(0.018618578173035274)), (375, np.float64(0.01853100768698982)), (1063, np.float64(0.018507578594082322)), (1147, np.float64(0.018464560781704824)), (1277, np.float64(0.018418214388554507)), (687, np.float64(0.0184174763808325)), (769, np.float64(0.01838355238924593)), (164, np.float64(0.01837775002571432)), (28, np.float64(0.018361311925946595)), (1386, np.float64(0.01835527294764465)), (617, np.float64(0.01835434168017333)), (915, np.float64(0.018318033708152322)), (577, np.float64(0.01821961681567965)), (473, np.float64(0.01817214629988923)), (476, np.float64(0.018168464166799826)), (240, np.float64(0.01815498777544881)), (679, np.float64(0.018115815500334906)), (738, np.float64(0.01804317675705005)), (928, np.float64(0.017964105107559566)), (1073, np.float64(0.017926034046276865)), (35, np.float64(0.017921889199768986)), (1103, np.float64(0.017882754859173552)), (759, np.float64(0.01787130847456705)), (179, np.float64(0.017853240482572422)), (900, np.float64(0.01779903345704469)), (468, np.float64(0.01779683289565187)), (442, np.float64(0.017753912180678434)), (72, np.float64(0.017747285140282173)), (925, np.float64(0.0177401840382354)), (613, np.float64(0.01762894047212438)), (521, np.float64(0.01761408994898983)), (54, np.float64(0.017569900616823897)), (148, np.float64(0.017566287464734466)), (868, np.float64(0.017550826799443378)), (1246, np.float64(0.01753434393175362)), (121, np.float64(0.01750249836083537)), (8, np.float64(0.017409043936582852)), (699, np.float64(0.017391275060388893)), (1240, np.float64(0.017386902574694666)), (415, np.float64(0.017187346932191386)), (756, np.float64(0.017172298730438375)), (614, np.float64(0.016985528230777373)), (1119, np.float64(0.016907357627579958)), (238, np.float64(0.016903720244352414)), (411, np.float64(0.016860132133088086)), (544, np.float64(0.01679909103067506)), (512, np.float64(0.016780075915201614)), (1379, np.float64(0.016760748811547026)), (196, np.float64(0.016704836808105014)), (36, np.float64(0.01669545729880996)), (227, np.float64(0.01667893067322926)), (478, np.float64(0.016668738267422295)), (1376, np.float64(0.016650534909985568)), (879, np.float64(0.016637041059615974)), (972, np.float64(0.0166232940431056)), (626, np.float64(0.016499143673101194)), (1069, np.float64(0.016498974574902837)), (616, np.float64(0.016490736671228048)), (324, np.float64(0.016429663030165152)), (303, np.float64(0.01624802982390741)), (1018, np.float64(0.01622969186356976)), (929, np.float64(0.016175324041648315)), (1311, np.float64(0.016095729565109424)), (306, np.float64(0.01609278757118343)), (680, np.float64(0.01606171309324885)), (349, np.float64(0.016024288707947414)), (655, np.float64(0.016021719735327074)), (76, np.float64(0.016001323519483496)), (388, np.float64(0.015998425448960227)), (112, np.float64(0.015962124149635146)), (1048, np.float64(0.01590651176301295)), (1143, np.float64(0.015898947987808883)), (371, np.float64(0.01583311980468512)), (356, np.float64(0.01571573526888046)), (524, np.float64(0.015706761222817986)), (122, np.float64(0.015571919801565005)), (1076, np.float64(0.015440100743876799)), (395, np.float64(0.015438342773871587)), (844, np.float64(0.01543080448356928)), (952, np.float64(0.015331627394310182)), (878, np.float64(0.015315774792811356)), (79, np.float64(0.015257373384187365)), (535, np.float64(0.01525197057533615)), (668, np.float64(0.015243440678442459)), (181, np.float64(0.015206909518853392)), (10, np.float64(0.015075677378666368)), (676, np.float64(0.015008866988661109)), (561, np.float64(0.015004897013034967)), (1037, np.float64(0.014994459866131338)), (1324, np.float64(0.01497077004194181)), (575, np.float64(0.014941875473711095)), (827, np.float64(0.014929990477047541)), (709, np.float64(0.014878464268282831)), (824, np.float64(0.014866070865384431)), (980, np.float64(0.014842791010701108)), (1353, np.float64(0.014842790966348933)), (308, np.float64(0.014790367892902584)), (831, np.float64(0.01477608217944142)), (59, np.float64(0.014679349861638186)), (570, np.float64(0.01465897486981933)), (1300, np.float64(0.014646307901591408)), (653, np.float64(0.01461512650655341)), (633, np.float64(0.014596129790447106)), (431, np.float64(0.014504361121372943)), (674, np.float64(0.014468342360022873)), (221, np.float64(0.014427979178205184)), (1282, np.float64(0.014412680602473216)), (957, np.float64(0.014394916934862442)), (1396, np.float64(0.014209888129016076)), (262, np.float64(0.014097505215214485)), (1313, np.float64(0.014083683053790146)), (481, np.float64(0.014073671989921072)), (1307, np.float64(0.01406214145458851)), (622, np.float64(0.01397994266777817)), (825, np.float64(0.013962177185253678)), (167, np.float64(0.01382653748442473)), (58, np.float64(0.013821251708236296)), (1247, np.float64(0.013777679560333628)), (274, np.float64(0.013770382326784313)), (931, np.float64(0.01373745275824418)), (1252, np.float64(0.013699971288671743)), (1021, np.float64(0.013680855918434369)), (1027, np.float64(0.013654500456405542)), (373, np.float64(0.013645844725341076)), (982, np.float64(0.013597072534341125)), (1137, np.float64(0.013571778194007835)), (1032, np.float64(0.01355712839916012)), (304, np.float64(0.013509036842840766)), (1144, np.float64(0.013488187122883182)), (309, np.float64(0.013331199043508142)), (314, np.float64(0.013318773030913429)), (529, np.float64(0.013318598596891095)), (1064, np.float64(0.013289335628959481)), (297, np.float64(0.013274520730992534)), (1261, np.float64(0.013220681246546212)), (1230, np.float64(0.013163123084005985)), (505, np.float64(0.013156934586436884)), (188, np.float64(0.013145765900765919)), (260, np.float64(0.013127668190119696)), (817, np.float64(0.013057451289112072)), (369, np.float64(0.012991076255582393)), (1061, np.float64(0.01297905644006421)), (1187, np.float64(0.012964589414985399)), (1209, np.float64(0.012958493509456437)), (501, np.float64(0.012845186849003567)), (532, np.float64(0.012786159321370361)), (418, np.float64(0.012774839149860617)), (1262, np.float64(0.012721438358364054)), (691, np.float64(0.012715591615108858)), (1175, np.float64(0.01271259783215968)), (457, np.float64(0.012679708781384566)), (721, np.float64(0.012640781914316552)), (105, np.float64(0.012620361875426731)), (1134, np.float64(0.012608025629511894)), (1179, np.float64(0.012603401789645443)), (16, np.float64(0.012599644407574755)), (981, np.float64(0.012562279321610428)), (248, np.float64(0.01249064371047641)), (203, np.float64(0.012475924121079309)), (187, np.float64(0.012410268640363646)), (243, np.float64(0.01237798570711013)), (487, np.float64(0.012359944567222506)), (150, np.float64(0.012353932036468986)), (460, np.float64(0.012348458247592096)), (1369, np.float64(0.012347314404428149)), (103, np.float64(0.012300545506232649)), (1208, np.float64(0.012220099861655745)), (1093, np.float64(0.012099782461656057)), (361, np.float64(0.011997379395169327)), (1238, np.float64(0.011950457246304553)), (1012, np.float64(0.011944402795764971)), (1090, np.float64(0.011928036977844643)), (56, np.float64(0.011873952466490506)), (1080, np.float64(0.011866017900853369)), (81, np.float64(0.011819812704656044)), (1398, np.float64(0.011818323018451735)), (146, np.float64(0.011801856609266664)), (139, np.float64(0.011792449491884675)), (1203, np.float64(0.01173355186112729)), (890, np.float64(0.011689176010143012)), (910, np.float64(0.011671812627478505)), (490, np.float64(0.011663428699896212)), (762, np.float64(0.011660974858597893)), (265, np.float64(0.011642418898723982)), (997, np.float64(0.011633569883965791)), (1309, np.float64(0.011626375055406741)), (865, np.float64(0.01158031964018517)), (1315, np.float64(0.011569156191510563)), (1237, np.float64(0.011489471229712462)), (284, np.float64(0.011452468894551253)), (1124, np.float64(0.011444098474549327)), (149, np.float64(0.011423383470543004)), (200, np.float64(0.011374916816312391)), (750, np.float64(0.011355475360248363)), (1055, np.float64(0.01133344708032117)), (417, np.float64(0.01131900334668319)), (1110, np.float64(0.011242140206809484)), (960, np.float64(0.01123129564253681)), (225, np.float64(0.011114336567516555)), (162, np.float64(0.01099124137730556)), (930, np.float64(0.010948091371136883)), (1326, np.float64(0.01092433229105405)), (950, np.float64(0.010904153508759245)), (1024, np.float64(0.010901247732742274)), (484, np.float64(0.010834276660909598)), (205, np.float64(0.01077964562742368)), (1098, np.float64(0.010770797314826165)), (1085, np.float64(0.010746603638610396)), (163, np.float64(0.010720598550827928)), (625, np.float64(0.010648717711310107)), (394, np.float64(0.010620096982798439)), (405, np.float64(0.01060327435444101)), (775, np.float64(0.010515345849748382)), (396, np.float64(0.010455359452502805)), (583, np.float64(0.010421913590296454)), (435, np.float64(0.010372210197679897)), (1338, np.float64(0.010290710884485698)), (697, np.float64(0.010192641590068514)), (1084, np.float64(0.010192144356294666)), (14, np.float64(0.010173869908571859)), (1378, np.float64(0.010163441685519456)), (316, np.float64(0.01015653541846762)), (174, np.float64(0.01014691155335088)), (500, np.float64(0.01013971797038114)), (90, np.float64(0.009978437760264535)), (1354, np.float64(0.00996152448657513)), (461, np.float64(0.009936125324010354)), (949, np.float64(0.009930034241737482)), (292, np.float64(0.00991139837337384)), (911, np.float64(0.009840916679475065)), (938, np.float64(0.009714103491558698)), (974, np.float64(0.009712323101188544)), (133, np.float64(0.009710964665249571)), (5, np.float64(0.009669259336848292)), (242, np.float64(0.009661664066130045)), (826, np.float64(0.009627723284065089)), (173, np.float64(0.009619111919162805)), (567, np.float64(0.009597227601293093)), (1114, np.float64(0.009594909084520502)), (872, np.float64(0.009547153383877346)), (1207, np.float64(0.009513207663273814)), (682, np.float64(0.009481754639435652)), (1263, np.float64(0.009446982437873947)), (510, np.float64(0.009397478753517428)), (1232, np.float64(0.009344292880525216)), (766, np.float64(0.009342261599484062)), (278, np.float64(0.009332356888373378)), (20, np.float64(0.009293265711139892)), (1006, np.float64(0.009283543312238862)), (1071, np.float64(0.009265235827387133)), (761, np.float64(0.009247774134874327)), (1236, np.float64(0.009242002254681109)), (574, np.float64(0.009181419311793098)), (801, np.float64(0.009173058646526866)), (553, np.float64(0.00916873099125916)), (267, np.float64(0.009128771228223032)), (1115, np.float64(0.009112789152027354)), (764, np.float64(0.009043881707896226)), (285, np.float64(0.009036221490519955)), (495, np.float64(0.009015647540461748)), (354, np.float64(0.00900776033105155)), (408, np.float64(0.008981590018988898)), (1320, np.float64(0.008959599180112009)), (1095, np.float64(0.008950681272390388)), (800, np.float64(0.008937537434751076)), (1165, np.float64(0.008904361873571931)), (546, np.float64(0.00887258546454216)), (1382, np.float64(0.008805219857581436)), (812, np.float64(0.008797037576526117)), (562, np.float64(0.008796346942706982)), (818, np.float64(0.008756304146987465)), (742, np.float64(0.008681494381590773)), (681, np.float64(0.00862603645289558)), (230, np.float64(0.008611937201990445)), (1077, np.float64(0.008602975176435228)), (1142, np.float64(0.008591870890613945)), (906, np.float64(0.008591300121102036)), (1016, np.float64(0.008591112375941796)), (1159, np.float64(0.00857400934974981)), (519, np.float64(0.008572959407990865)), (273, np.float64(0.008559630327084313)), (1346, np.float64(0.008518164624550231)), (725, np.float64(0.008512137886268912)), (704, np.float64(0.008500711668649814)), (874, np.float64(0.008491574745837182)), (226, np.float64(0.008472706301803372)), (695, np.float64(0.00845974272544757)), (53, np.float64(0.008425608773777812)), (172, np.float64(0.008424045797732527)), (46, np.float64(0.008401904180051762)), (1268, np.float64(0.008377448643542118)), (603, np.float64(0.008369917425613806)), (649, np.float64(0.008308030983434016)), (268, np.float64(0.008249200665539986)), (884, np.float64(0.008214709906655258)), (486, np.float64(0.008210811118255695)), (1161, np.float64(0.008158077707883628)), (1220, np.float64(0.008156189909214438)), (342, np.float64(0.008115217097962112)), (966, np.float64(0.008087969419237133)), (335, np.float64(0.008043078716707603)), (1215, np.float64(0.008001285249457275)), (1092, np.float64(0.007982147049114345)), (237, np.float64(0.00790190694453096)), (440, np.float64(0.007844592263720822)), (1392, np.float64(0.007811087639466494)), (555, np.float64(0.007789667670531883)), (1087, np.float64(0.007782043272021616)), (272, np.float64(0.007773378980534411)), (116, np.float64(0.007770972192431009)), (1140, np.float64(0.007670349715021542)), (281, np.float64(0.00758091191341528)), (1120, np.float64(0.007566647593470914)), (2, np.float64(0.007351010592699853)), (357, np.float64(0.007149397576240668)), (771, np.float64(0.007131301870829062)), (397, np.float64(0.0070940286810554625)), (530, np.float64(0.007093412324721023)), (212, np.float64(0.007090725970218946)), (1204, np.float64(0.007077903683902269)), (330, np.float64(0.007015189763618698)), (611, np.float64(0.006994542605483572)), (154, np.float64(0.006946486965408441)), (1348, np.float64(0.006939704196600278)), (1068, np.float64(0.006934061872432137)), (985, np.float64(0.00691281756016466)), (968, np.float64(0.0068544661724813764)), (869, np.float64(0.006819583200622842)), (651, np.float64(0.006639936538767394)), (1362, np.float64(0.006568338381138465)), (159, np.float64(0.006527971775517424)), (177, np.float64(0.006506239815432643)), (391, np.float64(0.0064900991423580984)), (183, np.float64(0.006484205356638945)), (568, np.float64(0.006402734497538822)), (421, np.float64(0.006392658296855645)), (1301, np.float64(0.006378268826422659)), (624, np.float64(0.006256040082675228)), (99, np.float64(0.00619255937840461)), (289, np.float64(0.006182035123989456)), (41, np.float64(0.006178065793232672)), (860, np.float64(0.006125599909424967)), (134, np.float64(0.0061199319042720066)), (663, np.float64(0.006107095400141956)), (1380, np.float64(0.0061029943085293935)), (339, np.float64(0.006061142212484821)), (66, np.float64(0.0059961682667832245)), (466, np.float64(0.005940103842494079)), (600, np.float64(0.005903397367871287)), (733, np.float64(0.005898207987305966)), (971, np.float64(0.005873561448046409)), (814, np.float64(0.0058296193563994745)), (110, np.float64(0.005793704104577356)), (1045, np.float64(0.005789584943122139)), (291, np.float64(0.005785413318454774)), (592, np.float64(0.005777138545931089)), (1174, np.float64(0.005743232587590749)), (464, np.float64(0.0057238670700744945)), (1067, np.float64(0.0056794763045357475)), (1135, np.float64(0.005602377123043315)), (1297, np.float64(0.005576296076205842)), (580, np.float64(0.005548971459952476)), (1317, np.float64(0.005542009433504145)), (434, np.float64(0.005412571522522255)), (1327, np.float64(0.005376803980555072)), (366, np.float64(0.005356171038275443)), (109, np.float64(0.00527027155027454)), (318, np.float64(0.005261622729269967)), (1011, np.float64(0.005236279129243335)), (984, np.float64(0.005137871708252826)), (19, np.float64(0.0051378353010509414)), (214, np.float64(0.00512494223553973)), (908, np.float64(0.0049633954139566665)), (881, np.float64(0.004925065394535517)), (1273, np.float64(0.004896579546548723)), (231, np.float64(0.004856025324676775)), (821, np.float64(0.004835175613196249)), (494, np.float64(0.0048081024346234465)), (646, np.float64(0.004788963943245238)), (757, np.float64(0.004779628186855711)), (92, np.float64(0.004672433717324862)), (1198, np.float64(0.004614374073055157)), (429, np.float64(0.004609737761977763)), (913, np.float64(0.004604250563209918)), (1158, np.float64(0.0045788108162352365)), (689, np.float64(0.004576203344432239)), (677, np.float64(0.004569114771261487)), (1100, np.float64(0.004545845628208038)), (1302, np.float64(0.004518284806988561)), (569, np.float64(0.004492371316941822)), (763, np.float64(0.004483857494743825)), (138, np.float64(0.004372702004862606)), (793, np.float64(0.004369670742198869)), (540, np.float64(0.004332716581324009)), (1190, np.float64(0.004311672297034528)), (84, np.float64(0.0042854406513887075)), (867, np.float64(0.004263617134270524)), (1168, np.float64(0.004231454128387696)), (294, np.float64(0.004195666083886781)), (891, np.float64(0.00418184969114172)), (770, np.float64(0.004166610840989609)), (1244, np.float64(0.004158761117736391)), (672, np.float64(0.004090361969672771)), (1270, np.float64(0.0040341147011300526)), (853, np.float64(0.0039120608905575515)), (386, np.float64(0.003887547332093808)), (852, np.float64(0.0038655280732703265)), (117, np.float64(0.003796145527118134)), (261, np.float64(0.003676784168244772)), (927, np.float64(0.0036522284602761627)), (660, np.float64(0.0035974964806458837)), (124, np.float64(0.0)), (145, np.float64(0.0)), (153, np.float64(0.0)), (208, np.float64(0.0)), (234, np.float64(0.0)), (247, np.float64(0.0)), (255, np.float64(0.0)), (347, np.float64(0.0)), (472, np.float64(0.0)), (482, np.float64(0.0)), (497, np.float64(0.0)), (508, np.float64(0.0)), (528, np.float64(0.0)), (596, np.float64(0.0)), (602, np.float64(0.0)), (644, np.float64(0.0)), (684, np.float64(0.0)), (693, np.float64(0.0)), (696, np.float64(0.0)), (735, np.float64(0.0)), (736, np.float64(0.0)), (743, np.float64(0.0)), (760, np.float64(0.0)), (772, np.float64(0.0)), (797, np.float64(0.0)), (803, np.float64(0.0)), (810, np.float64(0.0)), (823, np.float64(0.0)), (832, np.float64(0.0)), (833, np.float64(0.0)), (835, np.float64(0.0)), (839, np.float64(0.0)), (871, np.float64(0.0)), (875, np.float64(0.0)), (883, np.float64(0.0)), (885, np.float64(0.0)), (889, np.float64(0.0)), (909, np.float64(0.0)), (921, np.float64(0.0)), (932, np.float64(0.0)), (934, np.float64(0.0)), (939, np.float64(0.0)), (944, np.float64(0.0)), (975, np.float64(0.0)), (977, np.float64(0.0)), (1003, np.float64(0.0)), (1022, np.float64(0.0)), (1034, np.float64(0.0)), (1040, np.float64(0.0)), (1054, np.float64(0.0)), (1057, np.float64(0.0)), (1060, np.float64(0.0)), (1062, np.float64(0.0)), (1074, np.float64(0.0)), (1106, np.float64(0.0)), (1108, np.float64(0.0)), (1112, np.float64(0.0)), (1121, np.float64(0.0)), (1141, np.float64(0.0)), (1145, np.float64(0.0)), (1146, np.float64(0.0)), (1148, np.float64(0.0)), (1155, np.float64(0.0)), (1156, np.float64(0.0)), (1171, np.float64(0.0)), (1176, np.float64(0.0)), (1196, np.float64(0.0)), (1197, np.float64(0.0)), (1206, np.float64(0.0)), (1212, np.float64(0.0)), (1213, np.float64(0.0)), (1222, np.float64(0.0)), (1227, np.float64(0.0)), (1239, np.float64(0.0)), (1260, np.float64(0.0)), (1265, np.float64(0.0)), (1271, np.float64(0.0)), (1283, np.float64(0.0)), (1288, np.float64(0.0)), (1290, np.float64(0.0)), (1291, np.float64(0.0)), (1292, np.float64(0.0)), (1305, np.float64(0.0)), (1314, np.float64(0.0)), (1321, np.float64(0.0)), (1322, np.float64(0.0)), (1325, np.float64(0.0)), (1331, np.float64(0.0)), (1340, np.float64(0.0)), (1349, np.float64(0.0)), (1350, np.float64(0.0)), (1359, np.float64(0.0)), (1363, np.float64(0.0)), (1366, np.float64(0.0)), (1373, np.float64(0.0)), (1375, np.float64(0.0)), (1381, np.float64(0.0)), (1394, np.float64(0.0)), (1395, np.float64(0.0))]\n"
          ]
        }
      ]
    },
    {
      "cell_type": "code",
      "source": [
        "#print the name of similar movies based on the index\n",
        "print('Movies suggested for you: \\n')\n",
        "i=1\n",
        "for movie in sorted_similar_movies:\n",
        "  index=movie[0]\n",
        "  title_from_index=movies_data[movies_data.index==index]['Movie'].values[0]\n",
        "  if (i<=30):\n",
        "    print(i,'.',title_from_index)\n",
        "    i+=1\n"
      ],
      "metadata": {
        "colab": {
          "base_uri": "https://localhost:8080/"
        },
        "id": "VStuOUjBFoZg",
        "outputId": "980d0c15-5171-40a4-b97a-45635da6cac2"
      },
      "execution_count": null,
      "outputs": [
        {
          "output_type": "stream",
          "name": "stdout",
          "text": [
            "Movies suggested for you: \n",
            "\n",
            "1 . Bahubali: The Beginning\n",
            "2 . Assembly Rowdy\n",
            "3 . Anthaka Mundu Aa Tarvatha\n",
            "4 . Sree\n",
            "5 . Rowdy Fellow\n",
            "6 . Bobby\n",
            "7 . Saaho\n",
            "8 . Mahanati\n",
            "9 . Chinnadana Nee Kosam\n",
            "10 . Ramudochhadu\n",
            "11 . Bhadra\n",
            "12 . Andhrawala\n",
            "13 . O Pitta Katha\n",
            "14 . Guntur Talkies\n",
            "15 . Oh My Friend\n",
            "16 . Gayatri\n",
            "17 . Tenali Ramakrishna BA.BL\n",
            "18 . Sarrainodu\n",
            "19 . Kaashmora\n",
            "20 . Rajdooth\n",
            "21 . Kondaveeti Raja\n",
            "22 . Kondaveeti Simhasanam\n",
            "23 . Eeshwar\n",
            "24 . Athanokkade\n",
            "25 . Rikshavodu\n",
            "26 . Dhruvanakshatram\n",
            "27 . Mugguru Kodukulu\n",
            "28 . Vijay\n",
            "29 . Varasudu\n",
            "30 . Anna Thamudu\n"
          ]
        }
      ]
    },
    {
      "cell_type": "markdown",
      "source": [
        "Movie Recommendation System"
      ],
      "metadata": {
        "id": "m6RabJ-yJSaH"
      }
    },
    {
      "cell_type": "code",
      "source": [
        "movie_name=input('Enter your favourite movie: ')\n",
        "\n",
        "list_of_all_titles=movies_data['Movie'].tolist()\n",
        "\n",
        "find_close_match=difflib.get_close_matches(movie_name,list_of_all_titles)\n",
        "\n",
        "close_match=find_close_match[0]\n",
        "\n",
        "index_of_the_movie=movies_data[movies_data.Movie==close_match]['Index'].values[0]\n",
        "\n",
        "similarity_score=list(enumerate(similarity[index_of_the_movie]))\n",
        "\n",
        "sorted_similar_movies=sorted(similarity_score,key=lambda x:x[1],reverse=True)\n",
        "\n",
        "print('Movies suggested for you: \\n')\n",
        "i=1\n",
        "for movie in sorted_similar_movies:\n",
        "  index=movie[0]\n",
        "  title_from_index=movies_data[movies_data.index==index]['Movie'].values[0]\n",
        "  if (i<=30):\n",
        "    print(i,'.',title_from_index)\n",
        "    i+=1\n"
      ],
      "metadata": {
        "colab": {
          "base_uri": "https://localhost:8080/"
        },
        "id": "mFuNwqx_GpMU",
        "outputId": "953eb241-0ab0-4907-e413-3f61b1d14bf5"
      },
      "execution_count": null,
      "outputs": [
        {
          "output_type": "stream",
          "name": "stdout",
          "text": [
            "Enter your favourite movie: Dhruva\n",
            "Movies suggested for you: \n",
            "\n",
            "1 . Dhruva\n",
            "2 . Ayogya\n",
            "3 . Temper\n",
            "4 . Trinetrudu\n",
            "5 . Sarileru Neekevvaru\n",
            "6 . Ganesh\n",
            "7 . Penguin\n",
            "8 . Officer\n",
            "9 . Yennai Arindhaal\n",
            "10 . Nakshatram\n",
            "11 . Bruce Lee: The Fighter\n",
            "12 . Yaan\n",
            "13 . Super Police\n",
            "14 . Gudachari No.1\n",
            "15 . Thaandavam\n",
            "16 . Seenu\n",
            "17 . Hare Ram\n",
            "18 . Vinaya Vidheya Rama\n",
            "19 . Legend\n",
            "20 . Brahma\n",
            "21 . State Rowdy\n",
            "22 . Neeku Naaku Dash Dash\n",
            "23 . Golimar\n",
            "24 . Paisa\n",
            "25 . Driver Ramudu\n",
            "26 . Asthram\n",
            "27 . Geethanjali\n",
            "28 . Operation Duryodhana\n",
            "29 . M Dharmaraju M.A.\n",
            "30 . Allari Police\n"
          ]
        }
      ]
    }
  ]
}